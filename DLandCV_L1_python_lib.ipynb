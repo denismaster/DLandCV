{
 "cells": [
  {
   "cell_type": "markdown",
   "metadata": {},
   "source": [
    "# Сети глубокого обучения и компьютерное зрение \n",
    "\n",
    "## Лабораторная работа №1 \"Обработка многомерных массивов в библиотеке NumPy с использованием IPython\""
   ]
  },
  {
   "cell_type": "markdown",
   "metadata": {},
   "source": [
    "Выполнил студент Оболенский Д.М группы ИСм-21о."
   ]
  },
  {
   "cell_type": "markdown",
   "metadata": {},
   "source": [
    "### Интерпретатор IPython и оболочка Jupyter"
   ]
  },
  {
   "cell_type": "markdown",
   "metadata": {},
   "source": [
    "Интерпретатор **IPython** является полезным интерактивным интерфейсом для языка Python и предоставляет некоторые удобные инструменты для отладки, анализа процесса выполнения программ на языке Python.\n",
    "\n",
    "**Jupyter** - веб-оболочка для интерпретатора IPython, позволяющая объединить код, текст, формулы и диаграммы в единый документ (*блокнот Jupyter*) и распространять их для других пользователей.\n",
    "\n",
    "Пример работы с разметкой среды Jupyter можно посмотреть в этом блокноте и в [блокноте с разнообразными примерами использования символов и тегов разметки](https://github.com/jupyter/notebook/blob/master/docs/source/examples/Notebook/Working%20With%20Markdown%20Cells.ipynb)"
   ]
  },
  {
   "cell_type": "markdown",
   "metadata": {},
   "source": [
    "Для быстрого доступа к документации и другой соответствующей информации в IPython используется знак `?`. Например справку по команде `len` можно поучить так:"
   ]
  },
  {
   "cell_type": "code",
   "execution_count": null,
   "metadata": {},
   "outputs": [],
   "source": [
    "?len"
   ]
  },
  {
   "cell_type": "markdown",
   "metadata": {},
   "source": [
    "Такой подход можно применять к любым функциям и методам в IPython."
   ]
  },
  {
   "cell_type": "code",
   "execution_count": 261,
   "metadata": {},
   "outputs": [],
   "source": [
    "L = [1,2,3]\n",
    "L.insert?"
   ]
  },
  {
   "cell_type": "markdown",
   "metadata": {},
   "source": [
    "#### \"Магические\" команды IPython\n",
    "\"Магические\" команды позволяют организовывать выполнение подпрограмм в среде IPython, а также их профилирование, отладку и другие операиции, не связанные непосредственно с языком Python. Например, кманда `%run <скрипт>` запускает в интерактивной оболочке IPython скрипт на Python, а `%timeit`автоматически определяет время выполнения следующего за ней однострочного оператора. Эта команда будет выполнять множественные запуски с целью получения максимально надежных результатов. "
   ]
  },
  {
   "cell_type": "code",
   "execution_count": 262,
   "metadata": {},
   "outputs": [
    {
     "name": "stdout",
     "output_type": "stream",
     "text": [
      "562 µs ± 20.1 µs per loop (mean ± std. dev. of 7 runs, 1000 loops each)\n"
     ]
    }
   ],
   "source": [
    "%timeit L = [n ** 2 for n in range(1000)]"
   ]
  },
  {
   "cell_type": "markdown",
   "metadata": {},
   "source": [
    "Справку по магическим функциям можно получить при помощи знака `?`. Например:"
   ]
  },
  {
   "cell_type": "code",
   "execution_count": 263,
   "metadata": {},
   "outputs": [],
   "source": [
    "%timeit?"
   ]
  },
  {
   "cell_type": "markdown",
   "metadata": {},
   "source": [
    "Для доступа к общему описанию доступных «магических» функций введите команду:"
   ]
  },
  {
   "cell_type": "code",
   "execution_count": 264,
   "metadata": {},
   "outputs": [],
   "source": [
    "%magic"
   ]
  },
  {
   "cell_type": "markdown",
   "metadata": {},
   "source": [
    "Для быстрого получения простого списка всех доступных «магических» функций:"
   ]
  },
  {
   "cell_type": "code",
   "execution_count": 265,
   "metadata": {},
   "outputs": [
    {
     "data": {
      "application/json": {
       "cell": {
        "!": "OSMagics",
        "HTML": "Other",
        "SVG": "Other",
        "bash": "Other",
        "capture": "ExecutionMagics",
        "cmd": "Other",
        "debug": "ExecutionMagics",
        "file": "Other",
        "html": "DisplayMagics",
        "javascript": "DisplayMagics",
        "js": "DisplayMagics",
        "latex": "DisplayMagics",
        "markdown": "DisplayMagics",
        "perl": "Other",
        "prun": "ExecutionMagics",
        "pypy": "Other",
        "python": "Other",
        "python2": "Other",
        "python3": "Other",
        "ruby": "Other",
        "script": "ScriptMagics",
        "sh": "Other",
        "svg": "DisplayMagics",
        "sx": "OSMagics",
        "system": "OSMagics",
        "time": "ExecutionMagics",
        "timeit": "ExecutionMagics",
        "writefile": "OSMagics"
       },
       "line": {
        "alias": "OSMagics",
        "alias_magic": "BasicMagics",
        "autocall": "AutoMagics",
        "automagic": "AutoMagics",
        "autosave": "KernelMagics",
        "bookmark": "OSMagics",
        "cd": "OSMagics",
        "clear": "KernelMagics",
        "cls": "KernelMagics",
        "colors": "BasicMagics",
        "config": "ConfigMagics",
        "connect_info": "KernelMagics",
        "copy": "Other",
        "ddir": "Other",
        "debug": "ExecutionMagics",
        "dhist": "OSMagics",
        "dirs": "OSMagics",
        "doctest_mode": "BasicMagics",
        "echo": "Other",
        "ed": "Other",
        "edit": "KernelMagics",
        "env": "OSMagics",
        "gui": "BasicMagics",
        "hist": "Other",
        "history": "HistoryMagics",
        "killbgscripts": "ScriptMagics",
        "ldir": "Other",
        "less": "KernelMagics",
        "load": "CodeMagics",
        "load_ext": "ExtensionMagics",
        "loadpy": "CodeMagics",
        "logoff": "LoggingMagics",
        "logon": "LoggingMagics",
        "logstart": "LoggingMagics",
        "logstate": "LoggingMagics",
        "logstop": "LoggingMagics",
        "ls": "Other",
        "lsmagic": "BasicMagics",
        "macro": "ExecutionMagics",
        "magic": "BasicMagics",
        "matplotlib": "PylabMagics",
        "mkdir": "Other",
        "more": "KernelMagics",
        "notebook": "BasicMagics",
        "page": "BasicMagics",
        "pastebin": "CodeMagics",
        "pdb": "ExecutionMagics",
        "pdef": "NamespaceMagics",
        "pdoc": "NamespaceMagics",
        "pfile": "NamespaceMagics",
        "pinfo": "NamespaceMagics",
        "pinfo2": "NamespaceMagics",
        "pip": "BasicMagics",
        "popd": "OSMagics",
        "pprint": "BasicMagics",
        "precision": "BasicMagics",
        "profile": "BasicMagics",
        "prun": "ExecutionMagics",
        "psearch": "NamespaceMagics",
        "psource": "NamespaceMagics",
        "pushd": "OSMagics",
        "pwd": "OSMagics",
        "pycat": "OSMagics",
        "pylab": "PylabMagics",
        "qtconsole": "KernelMagics",
        "quickref": "BasicMagics",
        "recall": "HistoryMagics",
        "rehashx": "OSMagics",
        "reload_ext": "ExtensionMagics",
        "ren": "Other",
        "rep": "Other",
        "rerun": "HistoryMagics",
        "reset": "NamespaceMagics",
        "reset_selective": "NamespaceMagics",
        "rmdir": "Other",
        "run": "ExecutionMagics",
        "save": "CodeMagics",
        "sc": "OSMagics",
        "set_env": "OSMagics",
        "store": "StoreMagics",
        "sx": "OSMagics",
        "system": "OSMagics",
        "tb": "ExecutionMagics",
        "time": "ExecutionMagics",
        "timeit": "ExecutionMagics",
        "unalias": "OSMagics",
        "unload_ext": "ExtensionMagics",
        "who": "NamespaceMagics",
        "who_ls": "NamespaceMagics",
        "whos": "NamespaceMagics",
        "xdel": "NamespaceMagics",
        "xmode": "BasicMagics"
       }
      },
      "text/plain": [
       "Available line magics:\n",
       "%alias  %alias_magic  %autocall  %automagic  %autosave  %bookmark  %cd  %clear  %cls  %colors  %config  %connect_info  %copy  %ddir  %debug  %dhist  %dirs  %doctest_mode  %echo  %ed  %edit  %env  %gui  %hist  %history  %killbgscripts  %ldir  %less  %load  %load_ext  %loadpy  %logoff  %logon  %logstart  %logstate  %logstop  %ls  %lsmagic  %macro  %magic  %matplotlib  %mkdir  %more  %notebook  %page  %pastebin  %pdb  %pdef  %pdoc  %pfile  %pinfo  %pinfo2  %popd  %pprint  %precision  %profile  %prun  %psearch  %psource  %pushd  %pwd  %pycat  %pylab  %qtconsole  %quickref  %recall  %rehashx  %reload_ext  %ren  %rep  %rerun  %reset  %reset_selective  %rmdir  %run  %save  %sc  %set_env  %store  %sx  %system  %tb  %time  %timeit  %unalias  %unload_ext  %who  %who_ls  %whos  %xdel  %xmode\n",
       "\n",
       "Available cell magics:\n",
       "%%!  %%HTML  %%SVG  %%bash  %%capture  %%cmd  %%debug  %%file  %%html  %%javascript  %%js  %%latex  %%markdown  %%perl  %%prun  %%pypy  %%python  %%python2  %%python3  %%ruby  %%script  %%sh  %%svg  %%sx  %%system  %%time  %%timeit  %%writefile\n",
       "\n",
       "Automagic is ON, % prefix IS NOT needed for line magics."
      ]
     },
     "execution_count": 265,
     "metadata": {},
     "output_type": "execute_result"
    }
   ],
   "source": [
    "%lsmagic"
   ]
  },
  {
   "cell_type": "markdown",
   "metadata": {},
   "source": [
    "С помощью «магической» функции %xmode (сокращение от exception mode — режим отображения исключений) мы можем управлять тем, какая информация будет выведена.\n",
    "Функция %xmode принимает на входе один аргумент, режим, для которого есть три значения: Plain (Простой), Context (По контексту) и Verbose (Расширенный)."
   ]
  },
  {
   "cell_type": "markdown",
   "metadata": {},
   "source": [
    "#### Отладка и профилирование."
   ]
  },
  {
   "cell_type": "markdown",
   "metadata": {},
   "source": [
    "Отладчик в оболочке IPython называется ipdb (сокращение от IPython Debugger — «отладчик IPython»)."
   ]
  },
  {
   "cell_type": "markdown",
   "metadata": {},
   "source": [
    "Интерфейс для отладки в IPython — «магическая» команда `%debug`. Если ее вызвать после столкновения с исключением, она автоматически откроет интерактивную командную строку откладки в точке возникновения исключения. Командная строка ipdb позволяет изучать текущее состояние стека, доступные переменные и даже выполнять команды Python.\n",
    "Для подробной информации воспользуйтесь командой help в отладчике или загляните в [онлайн-документацию по ipdb](https://github.com/gotcha/ipdb)"
   ]
  },
  {
   "cell_type": "markdown",
   "metadata": {},
   "source": [
    "Оболочка IPython предоставляет широкий выбор функциональности для выполнения подобного мониторинга скорости выполнения кода и его профилирования. Для этого применяются следующие \"магческие команды\":\n",
    "\n",
    "* `%time` — длительность выполнения отдельного оператора;\n",
    "* `%timeit` — длительность выполнения отдельного оператора при неоднократном повторе, для большей точности;\n",
    "* `%prun` — выполнение кода с использованием профилировщика;\n",
    "* `%lprun` — пошаговое выполнение кода с применением профилировщика;\n",
    "* `%memit` — оценка использования оперативной памяти для отдельного оператора;\n",
    "* `%mprun` — пошаговое выполнение кода с применением профилировщика памяти.\n"
   ]
  },
  {
   "cell_type": "markdown",
   "metadata": {},
   "source": [
    "Пример работы команды `%timeit` рассмотрен выше. Он позволяет оценивать время выполнения однострочных инструкций, выполняя многократный их запуск."
   ]
  },
  {
   "cell_type": "code",
   "execution_count": 266,
   "metadata": {},
   "outputs": [
    {
     "name": "stdout",
     "output_type": "stream",
     "text": [
      "2.04 µs ± 271 ns per loop (mean ± std. dev. of 7 runs, 100000 loops each)\n"
     ]
    }
   ],
   "source": [
    "%timeit sum(range(100))"
   ]
  },
  {
   "cell_type": "markdown",
   "metadata": {},
   "source": [
    "Если же нужно оценить время, которое затрачивается на выполнение нескольких строк кода, нужно использовать команду с двумя знаками `%` - `%%timeit`:"
   ]
  },
  {
   "cell_type": "code",
   "execution_count": 267,
   "metadata": {},
   "outputs": [
    {
     "name": "stdout",
     "output_type": "stream",
     "text": [
      "721 ms ± 51.7 ms per loop (mean ± std. dev. of 7 runs, 1 loop each)\n"
     ]
    }
   ],
   "source": [
    "%%timeit\n",
    "    total = 0\n",
    "    for i in range(1000):\n",
    "        for j in range(1000):\n",
    "            total += i * (-1) ** j"
   ]
  },
  {
   "cell_type": "markdown",
   "metadata": {},
   "source": [
    "Для некоторых фрагментов кода будет полезно оценивать их длительность работы только по одному запуску. Для этого можно применять команду `%time` или `%%time` для многострочного фрагмента:"
   ]
  },
  {
   "cell_type": "code",
   "execution_count": 268,
   "metadata": {},
   "outputs": [
    {
     "name": "stdout",
     "output_type": "stream",
     "text": [
      "Wall time: 897 ms\n"
     ]
    }
   ],
   "source": [
    "%%time\n",
    "    total = 0\n",
    "    for i in range(1000):\n",
    "        for j in range(1000):\n",
    "            total += i * (-1) ** j"
   ]
  },
  {
   "cell_type": "markdown",
   "metadata": {},
   "source": [
    "Программы состоят из множества отдельных операторов, и иногда оценка времени их выполнения в контексте важнее, чем по отдельности. В языке Python имеется встроенный профилировщик кода (о котором можно прочитать в документации \n",
    "языка Python), но оболочка IPython предоставляет намного более удобный способ его использования в виде «магической» функции `%prun`. Для пошагового профилирования может использоваться функция `%lprun`. Аналогично для профилирования объема используемой оперативной памяти могут применяться команды  `%memit` и `%mprun`. Подробную информацию  них можно узнать воспользовавшись справкой по этим командам."
   ]
  },
  {
   "cell_type": "markdown",
   "metadata": {},
   "source": [
    "### Основы Python"
   ]
  },
  {
   "cell_type": "markdown",
   "metadata": {},
   "source": [
    "Данный блокнот представляет собой адаптированную версию блокнота http://cs231n.github.io/python-numpy-tutorial."
   ]
  },
  {
   "cell_type": "markdown",
   "metadata": {},
   "source": [
    "#### Введение"
   ]
  },
  {
   "cell_type": "markdown",
   "metadata": {},
   "source": [
    "Python - отличный язык программирования общего назначения, а с помощью нескольких популярных библиотек (numpy, scipy, matplotlib) он становится мощной средой для научных вычислений.\n",
    "\n",
    "Мы ожидаем, что у многих из вас уже есть некоторый опыт работы с Python и numpy; для остальных вас этот раздел будет служить быстрым курсом знакомства как с языком программирования Python, так и использования Python для научных вычислений.\n",
    "\n",
    "Кто-то из вас знаком с Matlab, и в этом случае мы также рекомендуем страницу numpy для пользователей Matlab (https://docs.scipy.org/doc/numpy-dev/user/numpy-for-matlab-users.html )."
   ]
  },
  {
   "cell_type": "markdown",
   "metadata": {},
   "source": [
    "Будут рассмотрены:\n",
    "* Основы языка Python: основные типы данных (контейнеры, списки, словари, наборы, кортежи), функции, классы\n",
    "* Библиотека Numpy: массивы, индексирование массивов, типы данных, математика массивов, трансляция"
   ]
  },
  {
   "cell_type": "markdown",
   "metadata": {},
   "source": [
    "#### Основы языка Python"
   ]
  },
  {
   "cell_type": "markdown",
   "metadata": {},
   "source": [
    "Python - высокоуровневый, динамически типизированный язык программирования. Код Python часто называют псевдокодом, поскольку он позволяет вам выражать мощные алгоритмы в нескольких строках кода, оставаясь очень читабельным. В качестве примера рассмотрим реализацию классического алгоритма быстрой сортировки в Python:"
   ]
  },
  {
   "cell_type": "code",
   "execution_count": 269,
   "metadata": {},
   "outputs": [
    {
     "name": "stdout",
     "output_type": "stream",
     "text": [
      "[1, 1, 2, 3, 6, 8, 10]\n"
     ]
    }
   ],
   "source": [
    "def quicksort(arr):\n",
    "    if len(arr) <= 1:\n",
    "        return arr\n",
    "    pivot = arr[len(arr) // 2]\n",
    "    left = [x for x in arr if x < pivot]\n",
    "    middle = [x for x in arr if x == pivot]\n",
    "    right = [x for x in arr if x > pivot]\n",
    "    return quicksort(left) + middle + quicksort(right)\n",
    "\n",
    "print(quicksort([3,6,8,10,1,2,1]))"
   ]
  },
  {
   "cell_type": "markdown",
   "metadata": {},
   "source": [
    "#### Версии Python"
   ]
  },
  {
   "cell_type": "markdown",
   "metadata": {},
   "source": [
    "В настоящее время существуют две поддерживаемых версии Python - 2.7 и 3.6. В Python 3.0 добавлено много обратно несовместимых изменений, поэтому код, написанный для версии 2.7, может не работать под 3.6 и наоборот. Для этого класса весь код будет использовать Python 3.6.\n",
    "\n",
    "Вы можете проверить свою версию Python в командной строке, запустив `python -V`."
   ]
  },
  {
   "cell_type": "markdown",
   "metadata": {},
   "source": [
    "#### Основные типы данных"
   ]
  },
  {
   "cell_type": "markdown",
   "metadata": {},
   "source": [
    "##### Числа"
   ]
  },
  {
   "cell_type": "markdown",
   "metadata": {},
   "source": [
    "Целые числа и числа с плавающей запятой работают так, как и в других языках:"
   ]
  },
  {
   "cell_type": "code",
   "execution_count": 270,
   "metadata": {},
   "outputs": [
    {
     "name": "stdout",
     "output_type": "stream",
     "text": [
      "3 <class 'int'>\n"
     ]
    }
   ],
   "source": [
    "x = 3\n",
    "print(x, type(x))"
   ]
  },
  {
   "cell_type": "code",
   "execution_count": 271,
   "metadata": {},
   "outputs": [
    {
     "name": "stdout",
     "output_type": "stream",
     "text": [
      "4\n",
      "2\n",
      "6\n",
      "9\n"
     ]
    }
   ],
   "source": [
    "print(x + 1)   # Addition;\n",
    "print(x - 1)   # Subtraction;\n",
    "print(x * 2)   # Multiplication;\n",
    "print(x ** 2)  # Exponentiation;"
   ]
  },
  {
   "cell_type": "code",
   "execution_count": 272,
   "metadata": {},
   "outputs": [
    {
     "name": "stdout",
     "output_type": "stream",
     "text": [
      "4\n",
      "8\n"
     ]
    }
   ],
   "source": [
    "x += 1\n",
    "print(x)  # Prints \"4\"\n",
    "x *= 2\n",
    "print(x)  # Prints \"8\""
   ]
  },
  {
   "cell_type": "code",
   "execution_count": 273,
   "metadata": {},
   "outputs": [
    {
     "name": "stdout",
     "output_type": "stream",
     "text": [
      "<class 'float'>\n",
      "2.5 3.5 5.0 6.25\n"
     ]
    }
   ],
   "source": [
    "y = 2.5\n",
    "print(type(y)) # Prints \"<type 'float'>\"\n",
    "print(y, y + 1, y * 2, y ** 2) # Prints \"2.5 3.5 5.0 6.25\""
   ]
  },
  {
   "cell_type": "markdown",
   "metadata": {},
   "source": [
    "Обратите внимание: в отличие от многих языков Python не имеет унарных инкрементов (x++) или декрементов (x--).\n",
    "Python также имеет встроенные типы для длинных целых чисел и комплексных чисел."
   ]
  },
  {
   "cell_type": "markdown",
   "metadata": {},
   "source": [
    "##### Логические переменные"
   ]
  },
  {
   "cell_type": "markdown",
   "metadata": {},
   "source": [
    "Python реализует все обычные операторы для булевой логики, но использует английские слова, а не символы (`&&`, `||` и т. д.):"
   ]
  },
  {
   "cell_type": "code",
   "execution_count": 274,
   "metadata": {},
   "outputs": [
    {
     "name": "stdout",
     "output_type": "stream",
     "text": [
      "<class 'bool'>\n"
     ]
    }
   ],
   "source": [
    "t, f = True, False\n",
    "print(type(t)) # Prints \"<type 'bool'>\""
   ]
  },
  {
   "cell_type": "markdown",
   "metadata": {},
   "source": [
    "Теперь давайте посмотрим на операции:"
   ]
  },
  {
   "cell_type": "code",
   "execution_count": 275,
   "metadata": {},
   "outputs": [
    {
     "name": "stdout",
     "output_type": "stream",
     "text": [
      "False\n",
      "True\n",
      "False\n",
      "True\n"
     ]
    }
   ],
   "source": [
    "print(t and f) # Logical AND;\n",
    "print(t or f)  # Logical OR;\n",
    "print(not t)   # Logical NOT;\n",
    "print(t != f)  # Logical XOR;"
   ]
  },
  {
   "cell_type": "markdown",
   "metadata": {},
   "source": [
    "##### Строки"
   ]
  },
  {
   "cell_type": "code",
   "execution_count": 276,
   "metadata": {},
   "outputs": [
    {
     "name": "stdout",
     "output_type": "stream",
     "text": [
      "hello 5\n"
     ]
    }
   ],
   "source": [
    "hello = 'hello'   # String literals can use single quotes\n",
    "world = \"world\"   # or double quotes; it does not matter.\n",
    "print(hello, len(hello))"
   ]
  },
  {
   "cell_type": "code",
   "execution_count": 277,
   "metadata": {},
   "outputs": [
    {
     "name": "stdout",
     "output_type": "stream",
     "text": [
      "hello world\n"
     ]
    }
   ],
   "source": [
    "hw = hello + ' ' + world  # String concatenation\n",
    "print(hw)  # prints \"hello world\""
   ]
  },
  {
   "cell_type": "code",
   "execution_count": 278,
   "metadata": {},
   "outputs": [
    {
     "name": "stdout",
     "output_type": "stream",
     "text": [
      "hello world 12\n"
     ]
    }
   ],
   "source": [
    "hw12 = '%s %s %d' % (hello, world, 12)  # sprintf style string formatting\n",
    "print(hw12)  # prints \"hello world 12\""
   ]
  },
  {
   "cell_type": "markdown",
   "metadata": {},
   "source": [
    "Строковые объекты имеют множество полезных методов; например:"
   ]
  },
  {
   "cell_type": "code",
   "execution_count": 279,
   "metadata": {},
   "outputs": [
    {
     "name": "stdout",
     "output_type": "stream",
     "text": [
      "Hello\n",
      "HELLO\n",
      "  hello\n",
      " hello \n",
      "he(ell)(ell)o\n",
      "world\n"
     ]
    }
   ],
   "source": [
    "s = \"hello\"\n",
    "print(s.capitalize())  # Capitalize a string; prints \"Hello\"\n",
    "print(s.upper())       # Convert a string to uppercase; prints \"HELLO\"\n",
    "print(s.rjust(7))      # Right-justify a string, padding with spaces; prints \"  hello\"\n",
    "print(s.center(7))     # Center a string, padding with spaces; prints \" hello \"\n",
    "print(s.replace('l', '(ell)'))  # Replace all instances of one substring with another;\n",
    "                               # prints \"he(ell)(ell)o\"\n",
    "print('  world '.strip())  # Strip leading and trailing whitespace; prints \"world\""
   ]
  },
  {
   "cell_type": "markdown",
   "metadata": {},
   "source": [
    "Вы можете найти список всех строковых методов в [документации](https://docs.python.org/3/library/stdtypes.html#string-methods)."
   ]
  },
  {
   "cell_type": "markdown",
   "metadata": {},
   "source": [
    "#### Контейнеры"
   ]
  },
  {
   "cell_type": "markdown",
   "metadata": {},
   "source": [
    "Python включает несколько встроенных типов контейнеров: списки, словари, множества и кортежи."
   ]
  },
  {
   "cell_type": "markdown",
   "metadata": {},
   "source": [
    "##### Списки"
   ]
  },
  {
   "cell_type": "markdown",
   "metadata": {},
   "source": [
    "Список представляет собой эквивалент массива в Python, но может изменять размер и может содержать элементы разных типов:"
   ]
  },
  {
   "cell_type": "code",
   "execution_count": 280,
   "metadata": {},
   "outputs": [
    {
     "name": "stdout",
     "output_type": "stream",
     "text": [
      "[3, 1, 2] 2\n",
      "2\n"
     ]
    }
   ],
   "source": [
    "xs = [3, 1, 2]   # Create a list\n",
    "print(xs, xs[2])\n",
    "print(xs[-1])     # Negative indices count from the end of the list; prints \"2\""
   ]
  },
  {
   "cell_type": "code",
   "execution_count": 281,
   "metadata": {},
   "outputs": [
    {
     "name": "stdout",
     "output_type": "stream",
     "text": [
      "[3, 1, 'foo']\n"
     ]
    }
   ],
   "source": [
    "xs[2] = 'foo'    # Lists can contain elements of different types\n",
    "print(xs)"
   ]
  },
  {
   "cell_type": "code",
   "execution_count": 282,
   "metadata": {},
   "outputs": [
    {
     "name": "stdout",
     "output_type": "stream",
     "text": [
      "[3, 1, 'foo', 'bar']\n"
     ]
    }
   ],
   "source": [
    "xs.append('bar') # Add a new element to the end of the list\n",
    "print(xs)  "
   ]
  },
  {
   "cell_type": "code",
   "execution_count": 283,
   "metadata": {},
   "outputs": [
    {
     "name": "stdout",
     "output_type": "stream",
     "text": [
      "bar [3, 1, 'foo']\n"
     ]
    }
   ],
   "source": [
    "x = xs.pop()     # Remove and return the last element of the list\n",
    "print(x, xs) "
   ]
  },
  {
   "cell_type": "markdown",
   "metadata": {},
   "source": [
    "Как обычно, вы можете найти все подробные сведения о списках в [документации](https://docs.python.org/3/tutorial/datastructures.html#more-on-lists)."
   ]
  },
  {
   "cell_type": "markdown",
   "metadata": {},
   "source": [
    "##### Срезы"
   ]
  },
  {
   "cell_type": "markdown",
   "metadata": {},
   "source": [
    "Помимо доступа к элементам списка по одному, Python обеспечивает краткий синтаксис для доступа к подспискам; это называется срезами:"
   ]
  },
  {
   "cell_type": "code",
   "execution_count": 284,
   "metadata": {},
   "outputs": [
    {
     "name": "stdout",
     "output_type": "stream",
     "text": [
      "[0, 1, 2, 3, 4]\n",
      "[2, 3]\n",
      "[2, 3, 4]\n",
      "[0, 1]\n",
      "[0, 1, 2, 3, 4]\n",
      "[0, 1, 2, 3]\n",
      "[0, 1, 8, 9, 4]\n"
     ]
    }
   ],
   "source": [
    "nums = list(range(5))    # range is a built-in function that creates a list of integers\n",
    "print(nums)         # Prints \"[0, 1, 2, 3, 4]\"\n",
    "print(nums[2:4])    # Get a slice from index 2 to 4 (exclusive); prints \"[2, 3]\"\n",
    "print(nums[2:])     # Get a slice from index 2 to the end; prints \"[2, 3, 4]\"\n",
    "print(nums[:2])     # Get a slice from the start to index 2 (exclusive); prints \"[0, 1]\"\n",
    "print(nums[:])      # Get a slice of the whole list; prints [\"0, 1, 2, 3, 4]\"\n",
    "print(nums[:-1])    # Slice indices can be negative; prints [\"0, 1, 2, 3]\"\n",
    "nums[2:4] = [8, 9] # Assign a new sublist to a slice\n",
    "print(nums)         # Prints \"[0, 1, 8, 9, 4]\""
   ]
  },
  {
   "cell_type": "markdown",
   "metadata": {},
   "source": [
    "##### Циклы"
   ]
  },
  {
   "cell_type": "markdown",
   "metadata": {},
   "source": [
    "Вы можете перебирать элементы списка следующим образом:"
   ]
  },
  {
   "cell_type": "code",
   "execution_count": 285,
   "metadata": {},
   "outputs": [
    {
     "name": "stdout",
     "output_type": "stream",
     "text": [
      "cat\n",
      "dog\n",
      "monkey\n"
     ]
    }
   ],
   "source": [
    "animals = ['cat', 'dog', 'monkey']\n",
    "for animal in animals:\n",
    "    print(animal)"
   ]
  },
  {
   "cell_type": "markdown",
   "metadata": {},
   "source": [
    "Если вы хотите получить доступ к индексу каждого элемента в теле цикла, используйте встроенную функцию `enumerate`:"
   ]
  },
  {
   "cell_type": "code",
   "execution_count": 286,
   "metadata": {},
   "outputs": [
    {
     "name": "stdout",
     "output_type": "stream",
     "text": [
      "#1: cat\n",
      "#2: dog\n",
      "#3: monkey\n"
     ]
    }
   ],
   "source": [
    "animals = ['cat', 'dog', 'monkey']\n",
    "for idx, animal in enumerate(animals):\n",
    "    print('#%d: %s' % (idx + 1, animal))"
   ]
  },
  {
   "cell_type": "markdown",
   "metadata": {},
   "source": [
    "##### Списковое включение"
   ]
  },
  {
   "cell_type": "markdown",
   "metadata": {},
   "source": [
    "При программировании часто мы хотим преобразовать один тип данных в другой. В качестве простого примера рассмотрим следующий код, который вычисляет квадрат чисел:"
   ]
  },
  {
   "cell_type": "code",
   "execution_count": 287,
   "metadata": {},
   "outputs": [
    {
     "name": "stdout",
     "output_type": "stream",
     "text": [
      "[0, 1, 4, 9, 16]\n"
     ]
    }
   ],
   "source": [
    "nums = [0, 1, 2, 3, 4]\n",
    "squares = []\n",
    "for x in nums:\n",
    "    squares.append(x ** 2)\n",
    "print(squares)"
   ]
  },
  {
   "cell_type": "markdown",
   "metadata": {},
   "source": [
    "Вы можете сделать этот код проще, используя включение списка:"
   ]
  },
  {
   "cell_type": "code",
   "execution_count": 288,
   "metadata": {},
   "outputs": [
    {
     "name": "stdout",
     "output_type": "stream",
     "text": [
      "[0, 1, 4, 9, 16]\n"
     ]
    }
   ],
   "source": [
    "nums = [0, 1, 2, 3, 4]\n",
    "squares = [x ** 2 for x in nums]\n",
    "print(squares)"
   ]
  },
  {
   "cell_type": "markdown",
   "metadata": {},
   "source": [
    "В списковом включении могут также содержаться условия:"
   ]
  },
  {
   "cell_type": "code",
   "execution_count": 289,
   "metadata": {},
   "outputs": [
    {
     "name": "stdout",
     "output_type": "stream",
     "text": [
      "[0, 4, 16]\n"
     ]
    }
   ],
   "source": [
    "nums = [0, 1, 2, 3, 4]\n",
    "even_squares = [x ** 2 for x in nums if x % 2 == 0]\n",
    "print(even_squares)"
   ]
  },
  {
   "cell_type": "markdown",
   "metadata": {},
   "source": [
    "##### Словари"
   ]
  },
  {
   "cell_type": "markdown",
   "metadata": {},
   "source": [
    "Словарь хранит пары (ключ, значение), похожие на `Map` в Java или `object` в Javascript. Вы можете использовать его следующим образом:"
   ]
  },
  {
   "cell_type": "code",
   "execution_count": 290,
   "metadata": {},
   "outputs": [
    {
     "name": "stdout",
     "output_type": "stream",
     "text": [
      "cute\n",
      "True\n"
     ]
    }
   ],
   "source": [
    "d = {'cat': 'cute', 'dog': 'furry'}  # Create a new dictionary with some data\n",
    "print(d['cat'])       # Get an entry from a dictionary; prints \"cute\"\n",
    "print('cat' in d)     # Check if a dictionary has a given key; prints \"True\""
   ]
  },
  {
   "cell_type": "code",
   "execution_count": 291,
   "metadata": {},
   "outputs": [
    {
     "name": "stdout",
     "output_type": "stream",
     "text": [
      "wet\n"
     ]
    }
   ],
   "source": [
    "d['fish'] = 'wet'    # Set an entry in a dictionary\n",
    "print(d['fish'])      # Prints \"wet\""
   ]
  },
  {
   "cell_type": "code",
   "execution_count": 294,
   "metadata": {},
   "outputs": [
    {
     "ename": "KeyError",
     "evalue": "'monkey'",
     "output_type": "error",
     "traceback": [
      "\u001b[1;31m---------------------------------------------------------------------------\u001b[0m",
      "\u001b[1;31mKeyError\u001b[0m                                  Traceback (most recent call last)",
      "\u001b[1;32m<ipython-input-294-78fc9745d9cf>\u001b[0m in \u001b[0;36m<module>\u001b[1;34m()\u001b[0m\n\u001b[1;32m----> 1\u001b[1;33m \u001b[0mprint\u001b[0m\u001b[1;33m(\u001b[0m\u001b[0md\u001b[0m\u001b[1;33m[\u001b[0m\u001b[1;34m'monkey'\u001b[0m\u001b[1;33m]\u001b[0m\u001b[1;33m)\u001b[0m  \u001b[1;31m# KeyError: 'monkey' not a key of d\u001b[0m\u001b[1;33m\u001b[0m\u001b[0m\n\u001b[0m",
      "\u001b[1;31mKeyError\u001b[0m: 'monkey'"
     ]
    }
   ],
   "source": [
    "print(d['monkey'])  # KeyError: 'monkey' not a key of d"
   ]
  },
  {
   "cell_type": "code",
   "execution_count": 295,
   "metadata": {},
   "outputs": [
    {
     "name": "stdout",
     "output_type": "stream",
     "text": [
      "N/A\n",
      "wet\n"
     ]
    }
   ],
   "source": [
    "print(d.get('monkey', 'N/A'))  # Get an element with a default; prints \"N/A\"\n",
    "print(d.get('fish', 'N/A'))    # Get an element with a default; prints \"wet\""
   ]
  },
  {
   "cell_type": "code",
   "execution_count": 296,
   "metadata": {},
   "outputs": [
    {
     "name": "stdout",
     "output_type": "stream",
     "text": [
      "N/A\n"
     ]
    }
   ],
   "source": [
    "del d['fish']        # Remove an element from a dictionary\n",
    "print(d.get('fish', 'N/A')) # \"fish\" is no longer a key; prints \"N/A\""
   ]
  },
  {
   "cell_type": "markdown",
   "metadata": {},
   "source": [
    "Вы можете найти все, что вам нужно знать о словарях в [документации](https://docs.python.org/3/library/stdtypes.html#dict).\n"
   ]
  },
  {
   "cell_type": "markdown",
   "metadata": {},
   "source": [
    "Легко перебирать ключи в словаре:"
   ]
  },
  {
   "cell_type": "code",
   "execution_count": 297,
   "metadata": {},
   "outputs": [
    {
     "name": "stdout",
     "output_type": "stream",
     "text": [
      "A person has 2 legs\n",
      "A cat has 4 legs\n",
      "A spider has 8 legs\n"
     ]
    }
   ],
   "source": [
    "d = {'person': 2, 'cat': 4, 'spider': 8}\n",
    "for animal in d:\n",
    "    legs = d[animal]\n",
    "    print('A %s has %d legs' % (animal, legs))"
   ]
  },
  {
   "cell_type": "markdown",
   "metadata": {},
   "source": [
    "Если вы хотите получить доступ к ключам и их соответствующим значениям, используйте метод items:"
   ]
  },
  {
   "cell_type": "code",
   "execution_count": 298,
   "metadata": {},
   "outputs": [
    {
     "name": "stdout",
     "output_type": "stream",
     "text": [
      "A person has 2 legs\n",
      "A cat has 4 legs\n",
      "A spider has 8 legs\n"
     ]
    }
   ],
   "source": [
    "d = {'person': 2, 'cat': 4, 'spider': 8}\n",
    "for animal, legs in d.items():\n",
    "    print('A %s has %d legs' % (animal, legs))"
   ]
  },
  {
   "cell_type": "markdown",
   "metadata": {},
   "source": [
    "Словарные включения: они похожи на списковые включения, но позволяют легко создавать словари. Например:"
   ]
  },
  {
   "cell_type": "code",
   "execution_count": 299,
   "metadata": {},
   "outputs": [
    {
     "name": "stdout",
     "output_type": "stream",
     "text": [
      "{0: 0, 2: 4, 4: 16}\n"
     ]
    }
   ],
   "source": [
    "nums = [0, 1, 2, 3, 4]\n",
    "even_num_to_square = {x: x ** 2 for x in nums if x % 2 == 0}\n",
    "print(even_num_to_square)"
   ]
  },
  {
   "cell_type": "markdown",
   "metadata": {},
   "source": [
    "##### Множества"
   ]
  },
  {
   "cell_type": "markdown",
   "metadata": {},
   "source": [
    "Множество представляет собой неупорядоченный набор отдельных элементов. В качестве простого примера рассмотрим следующее:"
   ]
  },
  {
   "cell_type": "code",
   "execution_count": 300,
   "metadata": {},
   "outputs": [
    {
     "name": "stdout",
     "output_type": "stream",
     "text": [
      "True\n",
      "False\n"
     ]
    }
   ],
   "source": [
    "animals = {'cat', 'dog'}\n",
    "print('cat' in animals)   # Check if an element is in a set; prints \"True\"\n",
    "print('fish' in animals)  # prints \"False\"\n"
   ]
  },
  {
   "cell_type": "code",
   "execution_count": 301,
   "metadata": {},
   "outputs": [
    {
     "name": "stdout",
     "output_type": "stream",
     "text": [
      "True\n",
      "3\n"
     ]
    }
   ],
   "source": [
    "animals.add('fish')      # Add an element to a set\n",
    "print('fish' in animals)\n",
    "print(len(animals))       # Number of elements in a set;"
   ]
  },
  {
   "cell_type": "code",
   "execution_count": 302,
   "metadata": {},
   "outputs": [
    {
     "name": "stdout",
     "output_type": "stream",
     "text": [
      "3\n",
      "2\n"
     ]
    }
   ],
   "source": [
    "animals.add('cat')       # Adding an element that is already in the set does nothing\n",
    "print(len(animals))       \n",
    "animals.remove('cat')    # Remove an element from a set\n",
    "print(len(animals))       "
   ]
  },
  {
   "cell_type": "markdown",
   "metadata": {},
   "source": [
    "_Циклы_: Итерация по множеству имеет тот же синтаксис, что и итерация по списку; однако, поскольку множества неупорядочены, вы не можете знать о порядке, в котором вы выбираете элементы набора:"
   ]
  },
  {
   "cell_type": "code",
   "execution_count": 303,
   "metadata": {},
   "outputs": [
    {
     "name": "stdout",
     "output_type": "stream",
     "text": [
      "#1: fish\n",
      "#2: cat\n",
      "#3: dog\n"
     ]
    }
   ],
   "source": [
    "animals = {'cat', 'dog', 'fish'}\n",
    "for idx, animal in enumerate(animals):\n",
    "    print('#%d: %s' % (idx + 1, animal))\n",
    "# Prints \"#1: fish\", \"#2: dog\", \"#3: cat\""
   ]
  },
  {
   "cell_type": "markdown",
   "metadata": {},
   "source": [
    "Включения множества. Подобно спискам и словарям, мы можем легко создавать меножества с использованием влючения множества:"
   ]
  },
  {
   "cell_type": "code",
   "execution_count": 304,
   "metadata": {},
   "outputs": [
    {
     "name": "stdout",
     "output_type": "stream",
     "text": [
      "{0, 1, 2, 3, 4, 5}\n"
     ]
    }
   ],
   "source": [
    "from math import sqrt\n",
    "print({int(sqrt(x)) for x in range(30)})"
   ]
  },
  {
   "cell_type": "markdown",
   "metadata": {},
   "source": [
    "##### Кортежи"
   ]
  },
  {
   "cell_type": "markdown",
   "metadata": {},
   "source": [
    "Кортеж представляет собой упорядоченный список значений. Кортеж во многом похож на список; одним из наиболее важных различий является то, что кортежи могут использоваться как ключи в словарях и как элементы множеств, в то время как списки не могут. Вот простой пример:"
   ]
  },
  {
   "cell_type": "code",
   "execution_count": 305,
   "metadata": {},
   "outputs": [
    {
     "name": "stdout",
     "output_type": "stream",
     "text": [
      "<class 'tuple'>\n",
      "5\n",
      "1\n"
     ]
    }
   ],
   "source": [
    "d = {(x, x + 1): x for x in range(10)}  # Create a dictionary with tuple keys\n",
    "t = (5, 6)       # Create a tuple\n",
    "print(type(t))\n",
    "print(d[t])       \n",
    "print(d[(1, 2)])"
   ]
  },
  {
   "cell_type": "code",
   "execution_count": 306,
   "metadata": {},
   "outputs": [
    {
     "ename": "TypeError",
     "evalue": "'tuple' object does not support item assignment",
     "output_type": "error",
     "traceback": [
      "\u001b[1;31m---------------------------------------------------------------------------\u001b[0m",
      "\u001b[1;31mTypeError\u001b[0m                                 Traceback (most recent call last)",
      "\u001b[1;32m<ipython-input-306-c8aeb8cd20ae>\u001b[0m in \u001b[0;36m<module>\u001b[1;34m()\u001b[0m\n\u001b[1;32m----> 1\u001b[1;33m \u001b[0mt\u001b[0m\u001b[1;33m[\u001b[0m\u001b[1;36m0\u001b[0m\u001b[1;33m]\u001b[0m \u001b[1;33m=\u001b[0m \u001b[1;36m1\u001b[0m\u001b[1;33m\u001b[0m\u001b[0m\n\u001b[0m",
      "\u001b[1;31mTypeError\u001b[0m: 'tuple' object does not support item assignment"
     ]
    }
   ],
   "source": [
    "t[0] = 1"
   ]
  },
  {
   "cell_type": "markdown",
   "metadata": {},
   "source": [
    "#### Функции"
   ]
  },
  {
   "cell_type": "markdown",
   "metadata": {},
   "source": [
    "Функции Python определяются с помощью ключевого слова `def`. Например:"
   ]
  },
  {
   "cell_type": "code",
   "execution_count": 307,
   "metadata": {},
   "outputs": [
    {
     "name": "stdout",
     "output_type": "stream",
     "text": [
      "negative\n",
      "zero\n",
      "positive\n"
     ]
    }
   ],
   "source": [
    "def sign(x):\n",
    "    if x > 0:\n",
    "        return 'positive'\n",
    "    elif x < 0:\n",
    "        return 'negative'\n",
    "    else:\n",
    "        return 'zero'\n",
    "\n",
    "for x in [-1, 0, 1]:\n",
    "    print(sign(x))"
   ]
  },
  {
   "cell_type": "markdown",
   "metadata": {},
   "source": [
    "Мы часто будем определять функции с необязательными аргументами, например:"
   ]
  },
  {
   "cell_type": "code",
   "execution_count": 308,
   "metadata": {},
   "outputs": [
    {
     "name": "stdout",
     "output_type": "stream",
     "text": [
      "Hello, Bob\n",
      "HELLO, FRED!\n"
     ]
    }
   ],
   "source": [
    "def hello(name, loud=False):\n",
    "    if loud:\n",
    "        print('HELLO, %s!' % name.upper())\n",
    "    else:\n",
    "        print('Hello, %s' % name)\n",
    "\n",
    "hello('Bob')\n",
    "hello('Fred', loud=True)"
   ]
  },
  {
   "cell_type": "markdown",
   "metadata": {},
   "source": [
    "#### Классы"
   ]
  },
  {
   "cell_type": "markdown",
   "metadata": {},
   "source": [
    "\n",
    "Синтаксис для определения классов в Python прост:"
   ]
  },
  {
   "cell_type": "code",
   "execution_count": 309,
   "metadata": {},
   "outputs": [
    {
     "name": "stdout",
     "output_type": "stream",
     "text": [
      "Hello, Fred\n",
      "HELLO, FRED!\n"
     ]
    }
   ],
   "source": [
    "class Greeter:\n",
    "\n",
    "    # Constructor\n",
    "    def __init__(self, name):\n",
    "        self.name = name  # Create an instance variable\n",
    "\n",
    "    # Instance method\n",
    "    def greet(self, loud=False):\n",
    "        if loud:\n",
    "            print('HELLO, %s!' % self.name.upper())\n",
    "        else:\n",
    "            print('Hello, %s' % self.name)\n",
    "\n",
    "g = Greeter('Fred')  # Construct an instance of the Greeter class\n",
    "g.greet()            # Call an instance method; prints \"Hello, Fred\"\n",
    "g.greet(loud=True)   # Call an instance method; prints \"HELLO, FRED!\""
   ]
  },
  {
   "cell_type": "markdown",
   "metadata": {},
   "source": [
    "##### <font color='red'>Задание</font>\n",
    "\n",
    "Создать класс, реализующий функционал учета рейтинга студентов **StudentsRaiting**. Класс должен иметь конструктор, который будет принимать список студентов с результатами сданных экзаменов, реализованый в виде словаря с ключем \"ФИО студента\" и оценками по экзаменам по 4 предметам (Программирование, Дискретная математика, Иностранный язык, Философия), представленными в виде упорядоченного множества (кортежа). Например:\n",
    "\n",
    "`{\"Иванов Петр Николавич\":(3,3,5,4), \"Петров Иван Константинович\":(5,4,5,4)}`\n",
    "\n",
    "Релизовать методы: \n",
    "- добавления студента с оценками по экзаменам\n",
    "- удаления студента из рейтинга \n",
    "- получения списка студентов с рейтингом выше порогового\n",
    "- метод демонстрации работы методов класса с выводом результатов на печать в виде текстовой таблицы.\n",
    "\n",
    "Примечание:\n",
    "Рейтинг составляется по суммарному баллу по всем предметам."
   ]
  },
  {
   "cell_type": "code",
   "execution_count": 1,
   "metadata": {},
   "outputs": [
    {
     "name": "stdout",
     "output_type": "stream",
     "text": [
      "ФИО\tРейтинг\n",
      "\n",
      "Иванов Петр Николавич \t 15\n",
      "Петров Иван Константинович \t 18\n",
      "\n",
      "\n",
      "Студент  Сидоров Василий Федорович  добавлен!\n",
      "\n",
      "Студент  Петухов Василий Николаевич  добавлен!\n",
      "\n",
      "ФИО\tРейтинг\n",
      "\n",
      "Иванов Петр Николавич \t 15\n",
      "Петров Иван Константинович \t 18\n",
      "Сидоров Василий Федорович \t 7\n",
      "Петухов Василий Николаевич \t 12\n",
      "\n",
      "\n",
      "Студент  Сидоров Василий Федорович  удален!\n",
      "\n",
      "ФИО\tРейтинг\n",
      "\n",
      "Иванов Петр Николавич \t 15\n",
      "Петров Иван Константинович \t 18\n",
      "Петухов Василий Николаевич \t 12\n",
      "[('Иванов Петр Николавич', 15), ('Петров Иван Константинович', 18)]\n"
     ]
    }
   ],
   "source": [
    "class StudentsRating:\n",
    "    \n",
    "    def __init__(self, students):\n",
    "        self.students = students      \n",
    "                \n",
    "    def add_student(self, name, marks):\n",
    "        if name in self.students:\n",
    "            return\n",
    "        self.students[name]=marks\n",
    "        print(\"Студент \", name, \" добавлен!\\n\")\n",
    "        \n",
    "    def remove_student(self, name):\n",
    "        if name in self.students:\n",
    "            del self.students[name]\n",
    "            print(\"Студент \", name, \" удален!\\n\")\n",
    "        \n",
    "    def filter_students(self, limit):\n",
    "        filtered_students = []\n",
    "        for key in self.students:\n",
    "            marks = self.students[key]\n",
    "            marks_sum = sum(marks)\n",
    "            if(marks_sum>=limit):\n",
    "                filtered_students.append((key, marks_sum))\n",
    "                \n",
    "        return filtered_students\n",
    "                \n",
    "    def print(self):\n",
    "        print(\"ФИО\\tРейтинг\\n\")\n",
    "        for key in self.students:\n",
    "            marks = self.students[key]\n",
    "            marks_sum = sum(marks)\n",
    "            print(key, \"\\t\", marks_sum)\n",
    "            \n",
    "            \n",
    "initial_rating = StudentsRating({\"Иванов Петр Николавич\":(3,3,5,4), \"Петров Иван Константинович\":(5,4,5,4)})\n",
    "initial_rating.print()\n",
    "print(\"\\n\")\n",
    "initial_rating.add_student(\"Сидоров Василий Федорович\", (1,1,2,3))\n",
    "initial_rating.add_student(\"Петухов Василий Николаевич\", (4,2,3,3))\n",
    "initial_rating.print()\n",
    "print(\"\\n\")\n",
    "initial_rating.remove_student(\"Сидоров Василий Федорович\")\n",
    "initial_rating.print()\n",
    "\n",
    "\n",
    "print(initial_rating.filter_students(14))\n"
   ]
  },
  {
   "cell_type": "markdown",
   "metadata": {},
   "source": [
    "### Numpy"
   ]
  },
  {
   "cell_type": "markdown",
   "metadata": {},
   "source": [
    "Numpy - это основная библиотека для научных вычислений на Python. Он предоставляет высокопроизводительный объект многомерных массивов и инструменты для работы с этими массивами. Если вы уже знакомы с MATLAB, то можно ознакомиться с эти [материалом](http://wiki.scipy.org/NumPy_for_Matlab_Users), полезным для начала работы с Numpy."
   ]
  },
  {
   "cell_type": "markdown",
   "metadata": {},
   "source": [
    "Чтобы использовать Numpy, сначала нужно импортировать пакет `numpy`:"
   ]
  },
  {
   "cell_type": "code",
   "execution_count": 311,
   "metadata": {},
   "outputs": [],
   "source": [
    "import numpy as np"
   ]
  },
  {
   "cell_type": "markdown",
   "metadata": {},
   "source": [
    "#### Массивы"
   ]
  },
  {
   "cell_type": "markdown",
   "metadata": {},
   "source": [
    "Массив numpy представляет собой сетку значений одного типа и индексируется кортежем неотрицательных целых чисел. Число измерений - это ранг массива; форма массива представляет собой набор целых чисел, дающий размер массива вдоль каждого измерения."
   ]
  },
  {
   "cell_type": "markdown",
   "metadata": {},
   "source": [
    "Мы можем инициализировать массивы numpy из списков Python и обращаться к элементам с использованием квадратных скобок:"
   ]
  },
  {
   "cell_type": "code",
   "execution_count": 312,
   "metadata": {},
   "outputs": [
    {
     "name": "stdout",
     "output_type": "stream",
     "text": [
      "<class 'numpy.ndarray'> (3,) 1 2 3\n",
      "[5 2 3]\n"
     ]
    }
   ],
   "source": [
    "a = np.array([1, 2, 3])  # Create a rank 1 array\n",
    "print(type(a), a.shape, a[0], a[1], a[2])\n",
    "a[0] = 5                 # Change an element of the array\n",
    "print(a)                  "
   ]
  },
  {
   "cell_type": "code",
   "execution_count": 313,
   "metadata": {},
   "outputs": [
    {
     "name": "stdout",
     "output_type": "stream",
     "text": [
      "[[1 2 3]\n",
      " [4 5 6]]\n"
     ]
    }
   ],
   "source": [
    "b = np.array([[1,2,3],[4,5,6]])   # Create a rank 2 array\n",
    "print(b)"
   ]
  },
  {
   "cell_type": "code",
   "execution_count": 314,
   "metadata": {},
   "outputs": [
    {
     "name": "stdout",
     "output_type": "stream",
     "text": [
      "(2, 3)\n",
      "1 2 4\n"
     ]
    }
   ],
   "source": [
    "print(b.shape)                   \n",
    "print(b[0, 0], b[0, 1], b[1, 0])"
   ]
  },
  {
   "cell_type": "markdown",
   "metadata": {},
   "source": [
    "Numpy также предоставляет множество функций для создания массивов:\n"
   ]
  },
  {
   "cell_type": "code",
   "execution_count": 315,
   "metadata": {},
   "outputs": [
    {
     "name": "stdout",
     "output_type": "stream",
     "text": [
      "[[0. 0.]\n",
      " [0. 0.]]\n"
     ]
    }
   ],
   "source": [
    "a = np.zeros((2,2))  # Create an array of all zeros\n",
    "print(a)"
   ]
  },
  {
   "cell_type": "code",
   "execution_count": 316,
   "metadata": {},
   "outputs": [
    {
     "name": "stdout",
     "output_type": "stream",
     "text": [
      "[[1. 1.]]\n"
     ]
    }
   ],
   "source": [
    "b = np.ones((1,2))   # Create an array of all ones\n",
    "print(b)"
   ]
  },
  {
   "cell_type": "code",
   "execution_count": 317,
   "metadata": {},
   "outputs": [
    {
     "name": "stdout",
     "output_type": "stream",
     "text": [
      "[[7 7]\n",
      " [7 7]]\n"
     ]
    }
   ],
   "source": [
    "c = np.full((2,2), 7) # Create a constant array\n",
    "print(c) "
   ]
  },
  {
   "cell_type": "code",
   "execution_count": 318,
   "metadata": {},
   "outputs": [
    {
     "name": "stdout",
     "output_type": "stream",
     "text": [
      "[[1. 0.]\n",
      " [0. 1.]]\n"
     ]
    }
   ],
   "source": [
    "d = np.eye(2)        # Create a 2x2 identity matrix\n",
    "print(d)"
   ]
  },
  {
   "cell_type": "code",
   "execution_count": 319,
   "metadata": {},
   "outputs": [
    {
     "name": "stdout",
     "output_type": "stream",
     "text": [
      "[[0.77834548 0.94957105]\n",
      " [0.66252687 0.01357164]]\n"
     ]
    }
   ],
   "source": [
    "e = np.random.random((2,2)) # Create an array filled with random values\n",
    "print(e)"
   ]
  },
  {
   "cell_type": "markdown",
   "metadata": {},
   "source": [
    "#### Типы данных"
   ]
  },
  {
   "cell_type": "markdown",
   "metadata": {},
   "source": [
    "Каждый массив numpy представляет собой набор элементов одного типа. Numpy предоставляет большой набор числовых типов данных, которые можно использовать для построения массивов. Numpy пытается угадать тип данных при создании массива, но функции, которые строят массивы, обычно также включают необязательный аргумент, чтобы явно указать тип данных. Например:"
   ]
  },
  {
   "cell_type": "code",
   "execution_count": 320,
   "metadata": {},
   "outputs": [
    {
     "name": "stdout",
     "output_type": "stream",
     "text": [
      "int32 float64 int64\n"
     ]
    }
   ],
   "source": [
    "x = np.array([1, 2])  # Let numpy choose the datatype\n",
    "y = np.array([1.0, 2.0])  # Let numpy choose the datatype\n",
    "z = np.array([1, 2], dtype=np.int64)  # Force a particular datatype\n",
    "\n",
    "print(x.dtype, y.dtype, z.dtype)"
   ]
  },
  {
   "cell_type": "markdown",
   "metadata": {},
   "source": [
    "Вы можете прочитать все о типах данных numpy в [документации](http://docs.scipy.org/doc/numpy/reference/arrays.dtypes.html)."
   ]
  },
  {
   "cell_type": "markdown",
   "metadata": {},
   "source": [
    "#### Атрибуты массивов"
   ]
  },
  {
   "cell_type": "markdown",
   "metadata": {},
   "source": [
    "При работе с массивами библиотеки NumPy можно получить полезную информацию о форме, размерностях массива, о типах данных элементов и занимаемом объеме данных."
   ]
  },
  {
   "cell_type": "code",
   "execution_count": 1,
   "metadata": {},
   "outputs": [],
   "source": [
    "import numpy as np\n",
    "np.random.seed(0)  # начальное значение для целей воспроизводимости\n",
    "x1 = np.random.randint(10, size=6)          # одномерный массив\n",
    "x2 = np.random.randint(10, size=(3, 4))     # двумерный массив\n",
    "x3 = np.random.randint(10, size=(3, 4, 5))  # трехмерный массив"
   ]
  },
  {
   "cell_type": "code",
   "execution_count": 322,
   "metadata": {
    "scrolled": true
   },
   "outputs": [
    {
     "name": "stdout",
     "output_type": "stream",
     "text": [
      "x3 ndim:  3\n",
      "x3 shape: (3, 4, 5)\n",
      "x3 size:  60\n"
     ]
    }
   ],
   "source": [
    "print(\"x3 ndim: \", x3.ndim)\n",
    "print(\"x3 shape:\", x3.shape)\n",
    "print(\"x3 size: \", x3.size)"
   ]
  },
  {
   "cell_type": "code",
   "execution_count": 323,
   "metadata": {},
   "outputs": [
    {
     "name": "stdout",
     "output_type": "stream",
     "text": [
      "dtype: int32\n"
     ]
    }
   ],
   "source": [
    "print(\"dtype:\", x3.dtype)"
   ]
  },
  {
   "cell_type": "code",
   "execution_count": 324,
   "metadata": {},
   "outputs": [
    {
     "name": "stdout",
     "output_type": "stream",
     "text": [
      "itemsize: 4 bytes\n"
     ]
    }
   ],
   "source": [
    "print(\"itemsize:\", x3.itemsize, \"bytes\")"
   ]
  },
  {
   "cell_type": "code",
   "execution_count": 325,
   "metadata": {},
   "outputs": [
    {
     "name": "stdout",
     "output_type": "stream",
     "text": [
      "nbytes: 240 bytes\n"
     ]
    }
   ],
   "source": [
    " print(\"nbytes:\", x3.nbytes, \"bytes\")"
   ]
  },
  {
   "cell_type": "markdown",
   "metadata": {},
   "source": [
    "##### <font color=red>Задание</font>\n",
    "Создать массив значений типа `int32` размером 10х10, состоящий из равномерно распределенных случайных чисел от 0 до 100. Получить 4 копии этого массива со значениями типа `uint32`,`int64`,`uint64`,`float`. Для каждого массива вывести сведения: число размерностей, форма, размер, тип данных, размер каждого значения в байтах и размер всего массива в байтах.\n"
   ]
  },
  {
   "cell_type": "code",
   "execution_count": 22,
   "metadata": {},
   "outputs": [
    {
     "name": "stdout",
     "output_type": "stream",
     "text": [
      "ndim:  2\n",
      "shape: (10, 10)\n",
      "size:  100\n",
      "dtype: int32\n",
      "itemsize: 4 bytes\n",
      "nbytes: 400 bytes\n",
      "\n",
      "ndim:  2\n",
      "shape: (10, 10)\n",
      "size:  100\n",
      "dtype: uint32\n",
      "itemsize: 4 bytes\n",
      "nbytes: 400 bytes\n",
      "\n",
      "ndim:  2\n",
      "shape: (10, 10)\n",
      "size:  100\n",
      "dtype: int64\n",
      "itemsize: 8 bytes\n",
      "nbytes: 800 bytes\n",
      "\n",
      "ndim:  2\n",
      "shape: (10, 10)\n",
      "size:  100\n",
      "dtype: uint64\n",
      "itemsize: 8 bytes\n",
      "nbytes: 800 bytes\n",
      "\n",
      "ndim:  2\n",
      "shape: (10, 10)\n",
      "size:  100\n",
      "dtype: float64\n",
      "itemsize: 8 bytes\n",
      "nbytes: 800 bytes\n",
      "\n"
     ]
    }
   ],
   "source": [
    "# Выполнение задания\n",
    "\n",
    "arr = np.random.randint(100, size=(10,10))\n",
    "\n",
    "def print_props(x3):\n",
    "    print(\"ndim: \", x3.ndim)\n",
    "    print(\"shape:\", x3.shape)\n",
    "    print(\"size: \", x3.size)\n",
    "    print(\"dtype:\", x3.dtype)\n",
    "    print(\"itemsize:\", x3.itemsize, \"bytes\")\n",
    "    print(\"nbytes:\", x3.nbytes, \"bytes\")\n",
    "    print()\n",
    "    \n",
    "\n",
    "uint32_arr = np.array(arr, dtype=np.uint32)\n",
    "int64_arr = np.array(arr, dtype=np.int64)\n",
    "uint64_arr = np.array(arr, dtype=np.uint64)\n",
    "float_arr = np.array(arr, dtype=np.float)\n",
    "\n",
    "print_props(arr)\n",
    "print_props(uint32_arr)\n",
    "print_props(int64_arr)\n",
    "print_props(uint64_arr)\n",
    "print_props(float_arr)"
   ]
  },
  {
   "cell_type": "markdown",
   "metadata": {},
   "source": [
    "#### Индексация массивов"
   ]
  },
  {
   "cell_type": "markdown",
   "metadata": {},
   "source": [
    "Numpy предлагает несколько способов индексации в массивах."
   ]
  },
  {
   "cell_type": "markdown",
   "metadata": {},
   "source": [
    "**Срезы**: Подобно спискам Python, с массивами numpy можно выполнять срезы. Поскольку массивы могут быть многомерными, вы должны указать срез для каждого измерения массива:"
   ]
  },
  {
   "cell_type": "code",
   "execution_count": 327,
   "metadata": {},
   "outputs": [
    {
     "name": "stdout",
     "output_type": "stream",
     "text": [
      "[[2 3]\n",
      " [6 7]]\n"
     ]
    }
   ],
   "source": [
    "import numpy as np\n",
    "\n",
    "# Create the following rank 2 array with shape (3, 4)\n",
    "# [[ 1  2  3  4]\n",
    "#  [ 5  6  7  8]\n",
    "#  [ 9 10 11 12]]\n",
    "a = np.array([[1,2,3,4], [5,6,7,8], [9,10,11,12]])\n",
    "\n",
    "# Use slicing to pull out the subarray consisting of the first 2 rows\n",
    "# and columns 1 and 2; b is the following array of shape (2, 2):\n",
    "# [[2 3]\n",
    "#  [6 7]]\n",
    "b = a[:2, 1:3]\n",
    "print(b)"
   ]
  },
  {
   "cell_type": "markdown",
   "metadata": {},
   "source": [
    "Срез массива является представлением исходных данных, поэтому его изменение изменит исходный массив."
   ]
  },
  {
   "cell_type": "code",
   "execution_count": 328,
   "metadata": {},
   "outputs": [
    {
     "name": "stdout",
     "output_type": "stream",
     "text": [
      "2\n",
      "77\n"
     ]
    }
   ],
   "source": [
    "print(a[0, 1])  \n",
    "b[0, 0] = 77    # b[0, 0] is the same piece of data as a[0, 1]\n",
    "print(a[0, 1]) "
   ]
  },
  {
   "cell_type": "markdown",
   "metadata": {},
   "source": [
    "\n",
    "Вы также можете комбинировать индексирование целыми числами с индексацией срезами. Однако при этом будет получен массив меньшего ранга, чем исходный массив. Обратите внимание, что это сильно отличается от того, как MATLAB обрабатывает срез массива:"
   ]
  },
  {
   "cell_type": "code",
   "execution_count": 329,
   "metadata": {},
   "outputs": [
    {
     "name": "stdout",
     "output_type": "stream",
     "text": [
      "[[ 1  2  3  4]\n",
      " [ 5  6  7  8]\n",
      " [ 9 10 11 12]]\n"
     ]
    }
   ],
   "source": [
    "# Create the following rank 2 array with shape (3, 4)\n",
    "a = np.array([[1,2,3,4], [5,6,7,8], [9,10,11,12]])\n",
    "print(a)"
   ]
  },
  {
   "cell_type": "markdown",
   "metadata": {},
   "source": [
    "Два способа доступа к данным в средней строке массива.\n",
    "Смешивание целых индексов с индексацией срезами дает массив более низкого ранга,\n",
    "в то время как использование только срезов дает массив того же ранга, что и\n",
    "исходный массив:"
   ]
  },
  {
   "cell_type": "code",
   "execution_count": 330,
   "metadata": {},
   "outputs": [
    {
     "name": "stdout",
     "output_type": "stream",
     "text": [
      "[5 6 7 8] (4,)\n",
      "[[5 6 7 8]] (1, 4)\n",
      "[[5 6 7 8]] (1, 4)\n"
     ]
    }
   ],
   "source": [
    "row_r1 = a[1, :]    # Rank 1 view of the second row of a  \n",
    "row_r2 = a[1:2, :]  # Rank 2 view of the second row of a\n",
    "row_r3 = a[[1], :]  # Rank 2 view of the second row of a\n",
    "print(row_r1, row_r1.shape) \n",
    "print(row_r2, row_r2.shape)\n",
    "print(row_r3, row_r3.shape)"
   ]
  },
  {
   "cell_type": "markdown",
   "metadata": {},
   "source": [
    "##### <font color=red>Задание</font>\n",
    "Выполнить следующий код и объяснить результат."
   ]
  },
  {
   "cell_type": "code",
   "execution_count": 10,
   "metadata": {},
   "outputs": [
    {
     "name": "stdout",
     "output_type": "stream",
     "text": [
      "[2 4 6] (3,)\n",
      "\n",
      "[[2]\n",
      " [4]\n",
      " [6]] (3, 1)\n"
     ]
    }
   ],
   "source": [
    "col_r1 = a[:, 1]\n",
    "col_r2 = a[:, 1:2]\n",
    "print(col_r1, col_r1.shape)\n",
    "print()\n",
    "print(col_r2, col_r2.shape)"
   ]
  },
  {
   "cell_type": "markdown",
   "metadata": {},
   "source": [
    "*Написать обьяснение:*\n",
    "\n",
    "В первом случае используется целое число для индексации, а во втором случае срез."
   ]
  },
  {
   "cell_type": "markdown",
   "metadata": {},
   "source": [
    "**Целочисленное индексирование массива**: при индексировании в массивах numpy с использованием срезов результирующее представление массива всегда будет подмассивом исходного массива. \n",
    "Напротив, индексирование целыми числами позволяет создавать произвольные массивы с использованием данных из другого массива. Например:"
   ]
  },
  {
   "cell_type": "code",
   "execution_count": 332,
   "metadata": {},
   "outputs": [
    {
     "name": "stdout",
     "output_type": "stream",
     "text": [
      "[1 4 5]\n",
      "[1 4 5]\n"
     ]
    }
   ],
   "source": [
    "a = np.array([[1,2], [3, 4], [5, 6]])\n",
    "\n",
    "# An example of integer array indexing.\n",
    "# The returned array will have shape (3,) and \n",
    "print(a[[0, 1, 2], [0, 1, 0]])\n",
    "\n",
    "# The above example of integer array indexing is equivalent to this:\n",
    "print(np.array([a[0, 0], a[1, 1], a[2, 0]]))"
   ]
  },
  {
   "cell_type": "code",
   "execution_count": 333,
   "metadata": {},
   "outputs": [
    {
     "name": "stdout",
     "output_type": "stream",
     "text": [
      "[2 2]\n",
      "[2 2]\n"
     ]
    }
   ],
   "source": [
    "# When using integer array indexing, you can reuse the same\n",
    "# element from the source array:\n",
    "print(a[[0, 0], [1, 1]])\n",
    "\n",
    "# Equivalent to the previous integer array indexing example\n",
    "print(np.array([a[0, 1], a[0, 1]]))"
   ]
  },
  {
   "cell_type": "markdown",
   "metadata": {},
   "source": [
    "Один полезный трюк с индексированием целочисленного массива - это выбор или изменение одного элемента из каждой строки матрицы:"
   ]
  },
  {
   "cell_type": "code",
   "execution_count": 334,
   "metadata": {},
   "outputs": [
    {
     "name": "stdout",
     "output_type": "stream",
     "text": [
      "[[ 1  2  3]\n",
      " [ 4  5  6]\n",
      " [ 7  8  9]\n",
      " [10 11 12]]\n"
     ]
    }
   ],
   "source": [
    "# Create a new array from which we will select elements\n",
    "a = np.array([[1,2,3], [4,5,6], [7,8,9], [10, 11, 12]])\n",
    "print(a)"
   ]
  },
  {
   "cell_type": "code",
   "execution_count": 335,
   "metadata": {},
   "outputs": [
    {
     "name": "stdout",
     "output_type": "stream",
     "text": [
      "[ 1  6  7 11]\n"
     ]
    }
   ],
   "source": [
    "# Create an array of indices\n",
    "b = np.array([0, 2, 0, 1])\n",
    "\n",
    "# Select one element from each row of a using the indices in b\n",
    "print(a[np.arange(4), b])  # Prints \"[ 1  6  7 11]\""
   ]
  },
  {
   "cell_type": "code",
   "execution_count": 336,
   "metadata": {},
   "outputs": [
    {
     "name": "stdout",
     "output_type": "stream",
     "text": [
      "[[11  2  3]\n",
      " [ 4  5 16]\n",
      " [17  8  9]\n",
      " [10 21 12]]\n"
     ]
    }
   ],
   "source": [
    "# Mutate one element from each row of a using the indices in b\n",
    "a[np.arange(4), b] += 10\n",
    "print(a)"
   ]
  },
  {
   "cell_type": "markdown",
   "metadata": {},
   "source": [
    "Иногда при индексации при помощи срезов бывает полезно работать не с представлением исходного массива, а иметь новый независимый массив данных из исходного массива. Т.е. нужно скопировать представление массива при помощи метода `copy`."
   ]
  },
  {
   "cell_type": "code",
   "execution_count": 337,
   "metadata": {},
   "outputs": [
    {
     "name": "stdout",
     "output_type": "stream",
     "text": [
      "[[4 3]\n",
      " [8 4]]\n"
     ]
    }
   ],
   "source": [
    "x = np.random.randint(10,size=(3,4))\n",
    "x_sub_copy = x[:2, :2].copy()\n",
    "print(x_sub_copy)"
   ]
  },
  {
   "cell_type": "markdown",
   "metadata": {},
   "source": [
    "**Индексирование при помощи булевых массивов**: индексирование при помощи булевых массивов позволяет выбирать произвольные элементы массива. Часто этот тип индексации используется для выбора элементов массива, которые удовлетворяют некоторому условию. Вот пример:"
   ]
  },
  {
   "cell_type": "code",
   "execution_count": 3,
   "metadata": {},
   "outputs": [
    {
     "name": "stdout",
     "output_type": "stream",
     "text": [
      "[[False False]\n",
      " [ True  True]\n",
      " [ True  True]]\n"
     ]
    }
   ],
   "source": [
    "import numpy as np\n",
    "\n",
    "a = np.array([[1,2], [3, 4], [5, 6]])\n",
    "\n",
    "bool_idx = (a > 2)  # Find the elements of a that are bigger than 2;\n",
    "                    # this returns a numpy array of Booleans of the same\n",
    "                    # shape as a, where each slot of bool_idx tells\n",
    "                    # whether that element of a is > 2.\n",
    "\n",
    "print(bool_idx)"
   ]
  },
  {
   "cell_type": "code",
   "execution_count": 4,
   "metadata": {},
   "outputs": [
    {
     "name": "stdout",
     "output_type": "stream",
     "text": [
      "[3 4 5 6]\n",
      "[3 4 5 6]\n"
     ]
    }
   ],
   "source": [
    "# We use boolean array indexing to construct a rank 1 array\n",
    "# consisting of the elements of a corresponding to the True values\n",
    "# of bool_idx\n",
    "print(a[bool_idx])\n",
    "\n",
    "# We can do all of the above in a single concise statement:\n",
    "print(a[a > 2])"
   ]
  },
  {
   "cell_type": "markdown",
   "metadata": {},
   "source": [
    "##### <font color=red>Задание</font>\n",
    "Создать массив случайных целочисленных значений (от -100 до 100) размером 8x8. Используя индексацию булевыми массивами получить:\n",
    "1. Все элементы, значения которых являются четными числами. Вывести их маску в массиве.\n",
    "2. Все элементы, значения которых попадают в диапазон от 10 до 50. Вывести их маску в массиве.\n",
    "3. Все элементы, значения которых являются четными числами и попадают в диапазон от 10 до 50. Вывести их маску в массиве.\n",
    "4. Все элементы, значения которых являются нечетными числами и модуль значения которых из диапазона от 10 до 50. Вывести их маску в массиве.\n",
    "5. Все элементы, значения которых являются нечетными числами или отрицательными."
   ]
  },
  {
   "cell_type": "code",
   "execution_count": 19,
   "metadata": {},
   "outputs": [
    {
     "name": "stdout",
     "output_type": "stream",
     "text": [
      "Even: [[ True  True  True  True  True  True  True  True]\n",
      " [False False  True  True False  True  True  True]\n",
      " [ True False False False False  True False  True]\n",
      " [False False  True  True  True  True  True False]\n",
      " [False False  True False  True False  True  True]\n",
      " [ True False False False False  True  True  True]\n",
      " [ True  True  True  True False  True False False]\n",
      " [ True False  True False  True  True False  True]]\n",
      "[52 44 68 48 60 76 12  8 34 60 58 18 -6 60 94 70 42 94  0 -4 58 18 36 46\n",
      " 78 60 56 64 82 96 94  8 24 90 74 28 28 16 36]\n",
      "Between 10 and 50 [[False  True False  True False False  True False]\n",
      " [ True  True  True False False False  True False]\n",
      " [False  True  True False  True False False False]\n",
      " [ True  True  True False False False False  True]\n",
      " [False  True  True False  True  True  True False]\n",
      " [False False False  True False False False False]\n",
      " [False False False  True  True False  True False]\n",
      " [False  True  True False  True  True False  True]]\n",
      "[44 48 12 49 25 34 18 13 33 29 27 39 42 27 29 18 36 21 46 29 24 41 25 29\n",
      " 28 28 16 36]\n",
      "All even between 10 and 50 [[False  True False  True False False  True False]\n",
      " [False False  True False False False  True False]\n",
      " [False False False False False False False False]\n",
      " [False False  True False False False False False]\n",
      " [False False  True False  True False  True False]\n",
      " [False False False False False False False False]\n",
      " [False False False  True False False False False]\n",
      " [False False  True False  True  True False  True]]\n",
      "[44 48 12 34 18 42 18 36 46 24 28 28 16 36]\n",
      "All odd and abs between 10 and 50 [[False False False False False False False False]\n",
      " [ True  True False False False False False False]\n",
      " [False  True  True False  True False False False]\n",
      " [ True  True False False False False False  True]\n",
      " [False  True False False False  True False False]\n",
      " [False False False  True False False False False]\n",
      " [False False False False  True False  True False]\n",
      " [False  True False False False False False False]]\n",
      "[49 25 13 33 29 27 39 27 29 21 29 41 25 29]\n",
      "All odd or negative [[False False False False False False False False]\n",
      " [ True  True False False  True False False  True]\n",
      " [False  True  True  True  True False  True False]\n",
      " [ True  True False False False  True False  True]\n",
      " [ True  True False  True False  True False False]\n",
      " [False  True  True  True  True False False False]\n",
      " [False False False False  True False  True  True]\n",
      " [False  True False  True False False  True False]]\n",
      "[49 25 97 -6 13 33 63 29 69 27 39 -4 27  1 29 91 21 55 77 29 -7 41 25 71\n",
      " 29 -5 85]\n"
     ]
    }
   ],
   "source": [
    "import math\n",
    "a = np.random.randint(low=-10, high=100,size=(8,8))\n",
    "\n",
    "even = (a % 2 == 0)\n",
    "print(\"Even:\", even)\n",
    "print(a[even])\n",
    "\n",
    "between_10_and_50 = (a>=10) & (a<=50)\n",
    "print(\"Between 10 and 50\", between_10_and_50)\n",
    "print(a[between_10_and_50])\n",
    "\n",
    "even_between_10_and_50 = even & between_10_and_50\n",
    "print(\"All even between 10 and 50\", even_between_10_and_50 )\n",
    "print(a[even_between_10_and_50])\n",
    "\n",
    "odd = (a % 2 > 0)\n",
    "in_range = (abs(a)>=10) & (abs(a)<=50)\n",
    "in_range_odd = odd & in_range\n",
    "print(\"All odd and abs between 10 and 50\", in_range_odd)\n",
    "print(a[in_range_odd])\n",
    "\n",
    "negative = (a < 0)\n",
    "negative_or_odd = negative | odd\n",
    "print(\"All odd or negative\",negative_or_odd)\n",
    "print(a[negative_or_odd])"
   ]
  },
  {
   "cell_type": "markdown",
   "metadata": {},
   "source": [
    "Для краткости мы пропустили много деталей о индексации массива numpy; если вы хотите узнать больше, прочитайте документацию."
   ]
  },
  {
   "cell_type": "markdown",
   "metadata": {},
   "source": [
    "#### Изменение формы массивов"
   ]
  },
  {
   "cell_type": "markdown",
   "metadata": {},
   "source": [
    "Часто требуется изменить форму массива (количество размерностей и их емкость), не изменяя самих элементов массива. Для этого используется специальный метод `reshape`."
   ]
  },
  {
   "cell_type": "code",
   "execution_count": 340,
   "metadata": {},
   "outputs": [
    {
     "name": "stdout",
     "output_type": "stream",
     "text": [
      "[[1 2 3]\n",
      " [4 5 6]\n",
      " [7 8 9]]\n"
     ]
    }
   ],
   "source": [
    "grid = np.arange(1, 10).reshape((3, 3))\n",
    "print(grid)"
   ]
  },
  {
   "cell_type": "markdown",
   "metadata": {},
   "source": [
    "Другой часто используемый паттерн изменения формы — преобразование одномерного массива в двумерную матрицу-строку или матрицу-столбец. Для этого можно применить метод reshape, но лучше воспользоваться ключевым словом newaxis при выполнении операции среза:"
   ]
  },
  {
   "cell_type": "code",
   "execution_count": 341,
   "metadata": {},
   "outputs": [
    {
     "data": {
      "text/plain": [
       "array([[1, 2, 3]])"
      ]
     },
     "execution_count": 341,
     "metadata": {},
     "output_type": "execute_result"
    }
   ],
   "source": [
    "x = np.array([1, 2, 3]) \n",
    "# Преобразование в вектор-строку с помощью reshape\n",
    "x.reshape((1, 3))"
   ]
  },
  {
   "cell_type": "code",
   "execution_count": 342,
   "metadata": {},
   "outputs": [
    {
     "data": {
      "text/plain": [
       "array([[1, 2, 3]])"
      ]
     },
     "execution_count": 342,
     "metadata": {},
     "output_type": "execute_result"
    }
   ],
   "source": [
    "# Преобразование в вектор-строку посредством newaxis\n",
    "x[np.newaxis, :]"
   ]
  },
  {
   "cell_type": "code",
   "execution_count": 343,
   "metadata": {},
   "outputs": [
    {
     "data": {
      "text/plain": [
       "array([[1],\n",
       "       [2],\n",
       "       [3]])"
      ]
     },
     "execution_count": 343,
     "metadata": {},
     "output_type": "execute_result"
    }
   ],
   "source": [
    "# Преобразование в вектор-столбец с помощью reshape\n",
    "x.reshape((3, 1))"
   ]
  },
  {
   "cell_type": "code",
   "execution_count": 344,
   "metadata": {},
   "outputs": [
    {
     "data": {
      "text/plain": [
       "array([[1],\n",
       "       [2],\n",
       "       [3]])"
      ]
     },
     "execution_count": 344,
     "metadata": {},
     "output_type": "execute_result"
    }
   ],
   "source": [
    "# Преобразование в вектор-столбец посредством newaxis\n",
    "x[:, np.newaxis]"
   ]
  },
  {
   "cell_type": "markdown",
   "metadata": {},
   "source": [
    "#### Объединение массивов"
   ]
  },
  {
   "cell_type": "markdown",
   "metadata": {},
   "source": [
    "Для работы с массивами с различающимися измерениями удобно использовать функции `np.vstack` (вертикальное объединение) и `np.hstack` (горизонтальное объединение):\n"
   ]
  },
  {
   "cell_type": "code",
   "execution_count": 345,
   "metadata": {},
   "outputs": [
    {
     "data": {
      "text/plain": [
       "array([[1, 2, 3],\n",
       "       [9, 8, 7],\n",
       "       [6, 5, 4]])"
      ]
     },
     "execution_count": 345,
     "metadata": {},
     "output_type": "execute_result"
    }
   ],
   "source": [
    " x = np.array([1, 2, 3])\n",
    "grid = np.array([[9, 8, 7],[6, 5, 4]])\n",
    "# Объединяет массивы по вертикали\n",
    "np.vstack([x, grid])"
   ]
  },
  {
   "cell_type": "code",
   "execution_count": 346,
   "metadata": {},
   "outputs": [
    {
     "data": {
      "text/plain": [
       "array([[ 9,  8,  7, 99],\n",
       "       [ 6,  5,  4, 99]])"
      ]
     },
     "execution_count": 346,
     "metadata": {},
     "output_type": "execute_result"
    }
   ],
   "source": [
    "# Объединяет массивы по горизонтали\n",
    "y = np.array([[99],[99]])\n",
    "np.hstack([grid, y])\n"
   ]
  },
  {
   "cell_type": "markdown",
   "metadata": {},
   "source": [
    "Функция `np.dstack` аналогично объединяет массивы по третьей оси."
   ]
  },
  {
   "cell_type": "markdown",
   "metadata": {},
   "source": [
    "#### Разбиение массивов\n",
    "Противоположностью слияния является разбиение, выполняемое с помощью функций np.split, np.hsplit и np.vsplit. Каждой из них необходимо передавать список индексов, задающих точки раздела:"
   ]
  },
  {
   "cell_type": "code",
   "execution_count": 347,
   "metadata": {},
   "outputs": [
    {
     "name": "stdout",
     "output_type": "stream",
     "text": [
      "[1 2 3] [99 99] [3 2 1]\n"
     ]
    }
   ],
   "source": [
    "x = [1, 2, 3, 99, 99, 3, 2, 1]\n",
    "x1, x2, x3 = np.split(x, [3, 5])\n",
    "print(x1, x2, x3)"
   ]
  },
  {
   "cell_type": "markdown",
   "metadata": {},
   "source": [
    "Функции `np.hsplit` и `np.vsplit` действуют аналогично:"
   ]
  },
  {
   "cell_type": "code",
   "execution_count": 348,
   "metadata": {},
   "outputs": [
    {
     "data": {
      "text/plain": [
       "array([[ 0,  1,  2,  3],\n",
       "       [ 4,  5,  6,  7],\n",
       "       [ 8,  9, 10, 11],\n",
       "       [12, 13, 14, 15]])"
      ]
     },
     "execution_count": 348,
     "metadata": {},
     "output_type": "execute_result"
    }
   ],
   "source": [
    "grid = np.arange(16).reshape((4, 4))\n",
    "grid"
   ]
  },
  {
   "cell_type": "code",
   "execution_count": 349,
   "metadata": {},
   "outputs": [
    {
     "name": "stdout",
     "output_type": "stream",
     "text": [
      "[[0 1 2 3]\n",
      " [4 5 6 7]]\n",
      "[[ 8  9 10 11]\n",
      " [12 13 14 15]]\n"
     ]
    }
   ],
   "source": [
    "upper, lower = np.vsplit(grid, [2])\n",
    "print(upper)\n",
    "print(lower)"
   ]
  },
  {
   "cell_type": "code",
   "execution_count": 350,
   "metadata": {},
   "outputs": [
    {
     "name": "stdout",
     "output_type": "stream",
     "text": [
      "[[ 0  1]\n",
      " [ 4  5]\n",
      " [ 8  9]\n",
      " [12 13]]\n",
      "[[ 2  3]\n",
      " [ 6  7]\n",
      " [10 11]\n",
      " [14 15]]\n"
     ]
    }
   ],
   "source": [
    "left, right = np.hsplit(grid, [2])\n",
    "print(left)\n",
    "print(right)"
   ]
  },
  {
   "cell_type": "markdown",
   "metadata": {},
   "source": [
    "##### <font color=red>Задание</font>\n",
    "Написать функцию, которая из исходного массива размером 8х8 получает (при помощи операций разбиения и объединения) массив, в котором переставлены квадранты 1-й с 3-м, 2-й с 4-м по сравнению с исходным массивом. Продемонстрировать работу функции все шаги алгоритма сопроводить подробными комментариями и отладочным выводом промежуточных результатов.\n",
    "\n",
    "Т.е. например из массива\n",
    "\n",
    "`[[49  5 49  1 28 27 31 35]\n",
    " [21 12 34  3 20  2 42 48]\n",
    " [21 22 39 23 28 31 47 34]\n",
    " [37  6 24 22 19 32 27 20]\n",
    " [12  0  1 40  2 30 42 47]\n",
    " [33 40 10  8 29 48 24  8]\n",
    " [14 49  8 46 23 18 10 49]\n",
    " [15 20 49 30  9 18 42  5]]`\n",
    " \n",
    "должен получиться массив \n",
    "\n",
    " `[[ 2 30 42 47 12  0  1 40]\n",
    " [29 48 24  8 33 40 10  8]\n",
    " [23 18 10 49 14 49  8 46]\n",
    " [ 9 18 42  5 15 20 49 30]\n",
    " [28 27 31 35 49  5 49  1]\n",
    " [20  2 42 48 21 12 34  3]\n",
    " [28 31 47 34 21 22 39 23]\n",
    " [19 32 27 20 37  6 24 22]]`"
   ]
  },
  {
   "cell_type": "code",
   "execution_count": 9,
   "metadata": {},
   "outputs": [
    {
     "name": "stdout",
     "output_type": "stream",
     "text": [
      "Left: [[49  5 49  1]\n",
      " [21 12 34  3]\n",
      " [21 22 39 23]\n",
      " [37  6 24 22]\n",
      " [12  0  1 40]\n",
      " [33 40 10  8]\n",
      " [14 49  8 46]\n",
      " [15 20 49 30]]\n",
      "Right: [[28 27 31 35]\n",
      " [20  2 42 48]\n",
      " [28 31 47 34]\n",
      " [19 32 27 20]\n",
      " [ 2 30 42 47]\n",
      " [29 48 24  8]\n",
      " [23 18 10 49]\n",
      " [ 9 18 42  5]]\n",
      "Top Left: [[49  5 49  1]\n",
      " [21 12 34  3]\n",
      " [21 22 39 23]\n",
      " [37  6 24 22]]\n",
      "Bottom Left: [[12  0  1 40]\n",
      " [33 40 10  8]\n",
      " [14 49  8 46]\n",
      " [15 20 49 30]]\n",
      "Top Right: [[28 27 31 35]\n",
      " [20  2 42 48]\n",
      " [28 31 47 34]\n",
      " [19 32 27 20]]\n",
      "Bottom Right: [[ 2 30 42 47]\n",
      " [29 48 24  8]\n",
      " [23 18 10 49]\n",
      " [ 9 18 42  5]]\n",
      "Result [[ 2 30 42 47 12  0  1 40]\n",
      " [29 48 24  8 33 40 10  8]\n",
      " [23 18 10 49 14 49  8 46]\n",
      " [ 9 18 42  5 15 20 49 30]\n",
      " [28 27 31 35 49  5 49  1]\n",
      " [20  2 42 48 21 12 34  3]\n",
      " [28 31 47 34 21 22 39 23]\n",
      " [19 32 27 20 37  6 24 22]]\n"
     ]
    }
   ],
   "source": [
    "# Выполнение задания\n",
    "arr = np.array([[49,  5, 49,  1, 28, 27, 31, 35],\n",
    " [21, 12, 34,  3, 20,  2, 42, 48],\n",
    " [21, 22, 39, 23, 28, 31, 47, 34],\n",
    " [37,  6, 24, 22, 19, 32, 27 ,20],\n",
    " [12 , 0,  1, 40,  2, 30, 42 ,47],\n",
    " [33 ,40, 10,  8, 29, 48, 24 , 8],\n",
    " [14, 49,  8, 46, 23 ,18, 10 ,49],\n",
    " [15, 20, 49, 30,  9, 18, 42  ,5]])\n",
    "\n",
    "left, right = np.hsplit(arr, [4])\n",
    "\n",
    "print(\"Left:\", left)\n",
    "print(\"Right:\", right)\n",
    "\n",
    "top_left, bottom_left = np.vsplit(left,[4])\n",
    "print(\"Top Left:\", top_left)\n",
    "print(\"Bottom Left:\", bottom_left)\n",
    "top_right, bottom_right = np.vsplit(right,[4])\n",
    "print(\"Top Right:\", top_right)\n",
    "print(\"Bottom Right:\", bottom_right)\n",
    "\n",
    "top = np.hstack([bottom_right, bottom_left])\n",
    "bottom = np.hstack([top_right,top_left])\n",
    "\n",
    "result = np.vstack([top, bottom])\n",
    "\n",
    "print(\"Result\", result)"
   ]
  },
  {
   "cell_type": "markdown",
   "metadata": {},
   "source": [
    "#### Вычисления с массивами"
   ]
  },
  {
   "cell_type": "markdown",
   "metadata": {},
   "source": [
    "Основные математические функции работают поэлементно с массивами и доступны как в виде перегрузок операторов, так и как функций в модуле numpy:"
   ]
  },
  {
   "cell_type": "code",
   "execution_count": 351,
   "metadata": {},
   "outputs": [
    {
     "name": "stdout",
     "output_type": "stream",
     "text": [
      "[[ 6.  8.]\n",
      " [10. 12.]]\n",
      "[[ 6.  8.]\n",
      " [10. 12.]]\n"
     ]
    }
   ],
   "source": [
    "x = np.array([[1,2],[3,4]], dtype=np.float64)\n",
    "y = np.array([[5,6],[7,8]], dtype=np.float64)\n",
    "\n",
    "# Elementwise sum; both produce the array\n",
    "print(x + y)\n",
    "print(np.add(x, y))"
   ]
  },
  {
   "cell_type": "code",
   "execution_count": 352,
   "metadata": {},
   "outputs": [
    {
     "name": "stdout",
     "output_type": "stream",
     "text": [
      "[[-4. -4.]\n",
      " [-4. -4.]]\n",
      "[[-4. -4.]\n",
      " [-4. -4.]]\n"
     ]
    }
   ],
   "source": [
    "# Elementwise difference; both produce the array\n",
    "print(x - y)\n",
    "print(np.subtract(x, y))"
   ]
  },
  {
   "cell_type": "code",
   "execution_count": 353,
   "metadata": {},
   "outputs": [
    {
     "name": "stdout",
     "output_type": "stream",
     "text": [
      "[[ 5. 12.]\n",
      " [21. 32.]]\n",
      "[[ 5. 12.]\n",
      " [21. 32.]]\n"
     ]
    }
   ],
   "source": [
    "# Elementwise product; both produce the array\n",
    "print(x * y)\n",
    "print(np.multiply(x, y))"
   ]
  },
  {
   "cell_type": "code",
   "execution_count": 354,
   "metadata": {},
   "outputs": [
    {
     "name": "stdout",
     "output_type": "stream",
     "text": [
      "[[0.2        0.33333333]\n",
      " [0.42857143 0.5       ]]\n",
      "[[0.2        0.33333333]\n",
      " [0.42857143 0.5       ]]\n"
     ]
    }
   ],
   "source": [
    "# Elementwise division; both produce the array\n",
    "# [[ 0.2         0.33333333]\n",
    "#  [ 0.42857143  0.5       ]]\n",
    "print(x / y)\n",
    "print(np.divide(x, y))"
   ]
  },
  {
   "cell_type": "code",
   "execution_count": 355,
   "metadata": {},
   "outputs": [
    {
     "name": "stdout",
     "output_type": "stream",
     "text": [
      "[[1.         1.41421356]\n",
      " [1.73205081 2.        ]]\n"
     ]
    }
   ],
   "source": [
    "# Elementwise square root; produces the array\n",
    "# [[ 1.          1.41421356]\n",
    "#  [ 1.73205081  2.        ]]\n",
    "print(np.sqrt(x))"
   ]
  },
  {
   "cell_type": "markdown",
   "metadata": {},
   "source": [
    "Обратите внимание, что в отличие от MATLAB, * является поэлементным умножением, а не матричным умножением. Вместо этого мы используем функцию точки для вычисления скалярных произведений векторов, умножения вектора на матрицу и умножения матриц. точка доступна как функция в модуле numpy, так и как метод экземпляра объектов массива:"
   ]
  },
  {
   "cell_type": "code",
   "execution_count": 356,
   "metadata": {},
   "outputs": [
    {
     "name": "stdout",
     "output_type": "stream",
     "text": [
      "219\n",
      "219\n"
     ]
    }
   ],
   "source": [
    "x = np.array([[1,2],[3,4]])\n",
    "y = np.array([[5,6],[7,8]])\n",
    "\n",
    "v = np.array([9,10])\n",
    "w = np.array([11, 12])\n",
    "\n",
    "# Inner product of vectors; both produce 219\n",
    "print(v.dot(w))\n",
    "print(np.dot(v, w))"
   ]
  },
  {
   "cell_type": "code",
   "execution_count": 357,
   "metadata": {},
   "outputs": [
    {
     "name": "stdout",
     "output_type": "stream",
     "text": [
      "[29 67]\n",
      "[29 67]\n"
     ]
    }
   ],
   "source": [
    "# Matrix / vector product; both produce the rank 1 array [29 67]\n",
    "print(x.dot(v))\n",
    "print(np.dot(x, v))"
   ]
  },
  {
   "cell_type": "code",
   "execution_count": 358,
   "metadata": {},
   "outputs": [
    {
     "name": "stdout",
     "output_type": "stream",
     "text": [
      "[[19 22]\n",
      " [43 50]]\n",
      "[[19 22]\n",
      " [43 50]]\n"
     ]
    }
   ],
   "source": [
    "# Matrix / matrix product; both produce the rank 2 array\n",
    "# [[19 22]\n",
    "#  [43 50]]\n",
    "print(x.dot(y))\n",
    "print(np.dot(x, y))"
   ]
  },
  {
   "cell_type": "markdown",
   "metadata": {},
   "source": [
    "Numpy предоставляет множество полезных функций для выполнения вычислений с массивами; одна из самых полезных - это `sum`:"
   ]
  },
  {
   "cell_type": "code",
   "execution_count": 359,
   "metadata": {},
   "outputs": [
    {
     "name": "stdout",
     "output_type": "stream",
     "text": [
      "10\n",
      "[4 6]\n",
      "[3 7]\n"
     ]
    }
   ],
   "source": [
    "x = np.array([[1,2],[3,4]])\n",
    "\n",
    "print(np.sum(x))  # Compute sum of all elements; prints \"10\"\n",
    "print(np.sum(x, axis=0))  # Compute sum of each column; prints \"[4 6]\"\n",
    "print(np.sum(x, axis=1))  # Compute sum of each row; prints \"[3 7]\""
   ]
  },
  {
   "cell_type": "markdown",
   "metadata": {},
   "source": [
    "Полный список математических функций, предоставляемых numpy, содержится в [документации](http://docs.scipy.org/doc/numpy/reference/routines.math.html).\n",
    "\n",
    "Помимо вычисления математических функций с использованием массивов, нам часто приходится изменять форму масива или иным образом манипулировать данными в массивах. Простейшим примером такой операции является транспонирование матрицы; для транспонирования матрицы просто используйте атрибут T объекта массива:"
   ]
  },
  {
   "cell_type": "code",
   "execution_count": 360,
   "metadata": {},
   "outputs": [
    {
     "name": "stdout",
     "output_type": "stream",
     "text": [
      "[[1 2]\n",
      " [3 4]]\n",
      "[[1 3]\n",
      " [2 4]]\n"
     ]
    }
   ],
   "source": [
    "print(x)\n",
    "print(x.T)"
   ]
  },
  {
   "cell_type": "code",
   "execution_count": 361,
   "metadata": {},
   "outputs": [
    {
     "name": "stdout",
     "output_type": "stream",
     "text": [
      "[1 2 3]\n",
      "[1 2 3]\n"
     ]
    }
   ],
   "source": [
    "v = np.array([1,2,3])\n",
    "print(v) \n",
    "print(v.T)"
   ]
  },
  {
   "cell_type": "markdown",
   "metadata": {},
   "source": [
    "#### Трансляция"
   ]
  },
  {
   "cell_type": "markdown",
   "metadata": {},
   "source": [
    "Трансляция - мощный механизм, позволяющий numpy работать с массивами разных форм при выполнении арифметических операций. Часто мы имеем меньший массив и больший массив, и мы хотим использовать меньший массив несколько раз, чтобы выполнить некоторую операцию над большим массивом.\n",
    "\n",
    "Например, предположим, что мы хотим добавить постоянный вектор в каждую строку матрицы. Мы могли бы сделать это следующим образом:"
   ]
  },
  {
   "cell_type": "code",
   "execution_count": 362,
   "metadata": {},
   "outputs": [
    {
     "name": "stdout",
     "output_type": "stream",
     "text": [
      "[[ 2  2  4]\n",
      " [ 5  5  7]\n",
      " [ 8  8 10]\n",
      " [11 11 13]]\n"
     ]
    }
   ],
   "source": [
    "# We will add the vector v to each row of the matrix x,\n",
    "# storing the result in the matrix y\n",
    "x = np.array([[1,2,3], [4,5,6], [7,8,9], [10, 11, 12]])\n",
    "v = np.array([1, 0, 1])\n",
    "y = np.empty_like(x)   # Create an empty matrix with the same shape as x\n",
    "\n",
    "# Add the vector v to each row of the matrix x with an explicit loop\n",
    "for i in range(4):\n",
    "    y[i, :] = x[i, :] + v\n",
    "\n",
    "print(y)"
   ]
  },
  {
   "cell_type": "markdown",
   "metadata": {},
   "source": [
    "Это работает; однако, когда матрица x очень велика, вычисление явного цикла в Python может быть медленным. Заметим, что добавление вектора v в каждую строку матрицы x эквивалентно формированию матрицы vv путем стыковки нескольких копий v по вертикали, а затем выполнения поэлементного суммирования x и vv. Мы могли бы реализовать этот подход следующим образом:"
   ]
  },
  {
   "cell_type": "code",
   "execution_count": 363,
   "metadata": {},
   "outputs": [
    {
     "name": "stdout",
     "output_type": "stream",
     "text": [
      "[[1 0 1]\n",
      " [1 0 1]\n",
      " [1 0 1]\n",
      " [1 0 1]]\n"
     ]
    }
   ],
   "source": [
    "vv = np.tile(v, (4, 1))  # Stack 4 copies of v on top of each other\n",
    "print(vv)                 # Prints \"[[1 0 1]\n",
    "                         #          [1 0 1]\n",
    "                         #          [1 0 1]\n",
    "                         #          [1 0 1]]\""
   ]
  },
  {
   "cell_type": "code",
   "execution_count": 364,
   "metadata": {},
   "outputs": [
    {
     "name": "stdout",
     "output_type": "stream",
     "text": [
      "[[ 2  2  4]\n",
      " [ 5  5  7]\n",
      " [ 8  8 10]\n",
      " [11 11 13]]\n"
     ]
    }
   ],
   "source": [
    "y = x + vv  # Add x and vv elementwise\n",
    "print(y)"
   ]
  },
  {
   "cell_type": "markdown",
   "metadata": {},
   "source": [
    "Трансляция позволяет нам выполнять это вычисление без фактического создания нескольких копий v. Рассмотрим этот вариант, использующий трансляцию:"
   ]
  },
  {
   "cell_type": "code",
   "execution_count": 365,
   "metadata": {},
   "outputs": [
    {
     "name": "stdout",
     "output_type": "stream",
     "text": [
      "[[ 2  2  4]\n",
      " [ 5  5  7]\n",
      " [ 8  8 10]\n",
      " [11 11 13]]\n"
     ]
    }
   ],
   "source": [
    "import numpy as np\n",
    "\n",
    "# We will add the vector v to each row of the matrix x,\n",
    "# storing the result in the matrix y\n",
    "x = np.array([[1,2,3], [4,5,6], [7,8,9], [10, 11, 12]])\n",
    "v = np.array([1, 0, 1])\n",
    "y = x + v  # Add v to each row of x using broadcasting\n",
    "print(y)"
   ]
  },
  {
   "cell_type": "markdown",
   "metadata": {},
   "source": [
    "Строка `y = x + v` работает, даже если` x` имеет форму `(4, 3)` и `v` имеет форму` (3,) `из-за широковещания; эта строка работает так, как если бы v фактически имела форму `(4, 3)`, где каждая строка была копией `v`, а сумма выполнялась поэлементно.\n",
    "\n",
    "**Трансляция** двух массивов выполняется в соответствии с правилами:\n",
    "\n",
    "1. Если массивы не одного ранга, к форме массива меньшего ранга добавляется одно измерение слева до тех пор, пока формы массивов не будут иметь одинаковую длину.\n",
    "2. Два массива, как говорят, совместимы в некотором измерении, если они имеют одинаковый размер в этом измерении, или если один из массивов имеет размер 1 в этом измерении.\n",
    "3. Массивы могут транслироваться друг с другом, если они совместимы во всех измерениях.\n",
    "4. После трансляции каждый массив ведет себя так, как если бы он имел форму, равную поэлементному максимуму форм двух входных массивов.\n",
    "5. В любом измерении, где один массив имел размер 1, а другой массив имел размер больше 1, первый массив ведет себя так, как если бы он был скопирован вдоль этого измерения.\n",
    "\n",
    "В книге `Python Data Science Handbook: Essential Tools for Working with Data` под авторством `Jake VanderPlas` трансляция массивов описывается тремя правилами:\n",
    "1. Если размерность двух массивов отличается, форма массива с меньшей размерностью дополняется единицами с ведущей (левой) стороны.\n",
    "2. Если форма двух массивов не совпадает в каком-то измерении, массив с формой, равной 1 в данном измерении, растягивается вплоть до соответствия форме другого массива.\n",
    "3. Если в каком-либо измерении размеры массивов различаются и ни один не равен 1, генерируется ошибка.\n",
    "\n",
    "Если это объяснение непонятно, попробуйте прочитать объяснение из [документации](http://docs.scipy.org/doc/numpy/user/basics.broadcasting.html) или этого [объяснения](http: // wiki.scipy.org/EricsBroadcastingDoc).\n",
    "\n",
    "Вот некоторые примеры использования трансляции:"
   ]
  },
  {
   "cell_type": "code",
   "execution_count": 366,
   "metadata": {},
   "outputs": [
    {
     "name": "stdout",
     "output_type": "stream",
     "text": [
      "[[ 4  5]\n",
      " [ 8 10]\n",
      " [12 15]]\n"
     ]
    }
   ],
   "source": [
    "# Compute outer product of vectors\n",
    "v = np.array([1,2,3])  # v has shape (3,)\n",
    "w = np.array([4,5])    # w has shape (2,)\n",
    "# To compute an outer product, we first reshape v to be a column\n",
    "# vector of shape (3, 1); we can then broadcast it against w to yield\n",
    "# an output of shape (3, 2), which is the outer product of v and w:\n",
    "\n",
    "print(np.reshape(v, (3, 1)) * w)"
   ]
  },
  {
   "cell_type": "code",
   "execution_count": 367,
   "metadata": {},
   "outputs": [
    {
     "name": "stdout",
     "output_type": "stream",
     "text": [
      "[[2 4 6]\n",
      " [5 7 9]]\n"
     ]
    }
   ],
   "source": [
    "# Add a vector to each row of a matrix\n",
    "x = np.array([[1,2,3], [4,5,6]])\n",
    "# x has shape (2, 3) and v has shape (3,) so they broadcast to (2, 3),\n",
    "# giving the following matrix:\n",
    "\n",
    "print(x + v)"
   ]
  },
  {
   "cell_type": "code",
   "execution_count": 368,
   "metadata": {},
   "outputs": [
    {
     "name": "stdout",
     "output_type": "stream",
     "text": [
      "[[ 5  6  7]\n",
      " [ 9 10 11]]\n"
     ]
    }
   ],
   "source": [
    "# Add a vector to each column of a matrix\n",
    "# x has shape (2, 3) and w has shape (2,).\n",
    "# If we transpose x then it has shape (3, 2) and can be broadcast\n",
    "# against w to yield a result of shape (3, 2); transposing this result\n",
    "# yields the final result of shape (2, 3) which is the matrix x with\n",
    "# the vector w added to each column. Gives the following matrix:\n",
    "\n",
    "print((x.T + w).T)"
   ]
  },
  {
   "cell_type": "code",
   "execution_count": 369,
   "metadata": {},
   "outputs": [
    {
     "name": "stdout",
     "output_type": "stream",
     "text": [
      "[[ 5  6  7]\n",
      " [ 9 10 11]]\n"
     ]
    }
   ],
   "source": [
    "# Another solution is to reshape w to be a row vector of shape (2, 1);\n",
    "# we can then broadcast it directly against x to produce the same\n",
    "# output.\n",
    "print(x + np.reshape(w, (2, 1)))"
   ]
  },
  {
   "cell_type": "code",
   "execution_count": 370,
   "metadata": {},
   "outputs": [
    {
     "name": "stdout",
     "output_type": "stream",
     "text": [
      "[[ 2  4  6]\n",
      " [ 8 10 12]]\n"
     ]
    }
   ],
   "source": [
    "# Multiply a matrix by a constant:\n",
    "# x has shape (2, 3). Numpy treats scalars as arrays of shape ();\n",
    "# these can be broadcast together to shape (2, 3), producing the\n",
    "# following array:\n",
    "print(x * 2)"
   ]
  },
  {
   "cell_type": "markdown",
   "metadata": {},
   "source": [
    "Трансляция обычно делает ваш код более кратким и быстрым, поэтому вы должны стремиться использовать его там, где это возможно."
   ]
  },
  {
   "cell_type": "markdown",
   "metadata": {},
   "source": [
    "##### Трансляция. Пример 1.\n",
    "\n",
    "Рассмотрим сложение двумерного массива с одномерным:\n",
    "``` \n",
    "M = np.ones((2, 3))\n",
    "a = np.arange(3)\n",
    "```\n",
    "Рассмотрим эту операцию подробнее. Формы массивов следующие:\n",
    "```\n",
    "M.shape = (2, 3)\n",
    "a.shape = (3,)\n",
    "```\n",
    "По правилу 1, поскольку размерность массива a меньше, мы дополняем его из-\n",
    "мерениями слева:\n",
    "```\n",
    "M.shape -> (2, 3)\n",
    "a.shape -> (1, 3)\n",
    "```\n",
    "По правилу 2 мы видим, что первое измерение массивов различается, так что мы \n",
    "растягиваем его вплоть до совпадения:\n",
    "```\n",
    "M.shape -> (2, 3)\n",
    "a.shape -> (2, 3)\n",
    "```\n",
    "Формы совпадают, и мы видим, что итоговая форма будет (2, 3). Проверим:"
   ]
  },
  {
   "cell_type": "code",
   "execution_count": 371,
   "metadata": {},
   "outputs": [
    {
     "data": {
      "text/plain": [
       "array([[1., 2., 3.],\n",
       "       [1., 2., 3.]])"
      ]
     },
     "execution_count": 371,
     "metadata": {},
     "output_type": "execute_result"
    }
   ],
   "source": [
    "M = np.ones((2, 3))\n",
    "a = np.arange(3)\n",
    "M+a"
   ]
  },
  {
   "cell_type": "markdown",
   "metadata": {},
   "source": [
    "##### Транслирование. Пример 2\n",
    "Рассмотрим пример, в котором необходимо транслировать оба массива:\n",
    "```\n",
    "a = np.arange(3).reshape((3, 1))\n",
    "b = np.arange(3)\n",
    "```\n",
    "Начнем с записи формы наших массивов:\n",
    "```\n",
    "a.shape = (3, 1)\n",
    "b.shape = (3,)\n",
    "```\n",
    "Правило 1 гласит, что мы должны дополнить форму массива b единицами:\n",
    "```\n",
    "a.shape -> (3, 1)\n",
    "b.shape -> (1, 3)\n",
    "```\n",
    "Правило 2 говорит, что нужно увеличивать эти единицы вплоть до совпадения \n",
    "с размером другого массива:\n",
    "```\n",
    "a.shape -> (3, 3)\n",
    "b.shape -> (3, 3)\n",
    "```\n",
    "Поскольку результаты совпадают, формы совместимы. Получаем:\n"
   ]
  },
  {
   "cell_type": "code",
   "execution_count": 372,
   "metadata": {},
   "outputs": [
    {
     "data": {
      "text/plain": [
       "array([[0, 1, 2],\n",
       "       [1, 2, 3],\n",
       "       [2, 3, 4]])"
      ]
     },
     "execution_count": 372,
     "metadata": {},
     "output_type": "execute_result"
    }
   ],
   "source": [
    "a = np.arange(3).reshape((3, 1))\n",
    "b = np.arange(3)\n",
    "a+b"
   ]
  },
  {
   "cell_type": "markdown",
   "metadata": {},
   "source": [
    "##### Транслирование. Пример 3\n",
    "Рассмотрим пример, в котором два массива несовместимы:\n",
    "```\n",
    "M = np.ones((3, 2))\n",
    "a = np.arange(3)\n",
    "```\n",
    "Эта ситуация лишь немного отличается от примера 1: матрица M транспонирована. Какое же влияние это окажет на вычисления? Формы массивов следующие:\n",
    "```\n",
    "M.shape = (3, 2)\n",
    "a.shape = (3,)\n",
    "```\n",
    "Правило 1 требует от нас дополнить форму массива a единицами:\n",
    "```\n",
    "M.shape -> (3, 2)\n",
    "a.shape -> (1, 3)\n",
    "```\n",
    "Согласно правилу 2 первое измерение массива a растягивается, чтобы соответствовать таковому массива M:\n",
    "```\n",
    "M.shape -> (3, 2)\n",
    "a.shape -> (3, 3)\n",
    "```\n",
    "Теперь вступает в действие правило 3 — итоговые формы не совпадают, так что массивы несовместимы, что мы и видим, попытавшись выполнить данную операцию:"
   ]
  },
  {
   "cell_type": "code",
   "execution_count": 373,
   "metadata": {},
   "outputs": [
    {
     "ename": "ValueError",
     "evalue": "operands could not be broadcast together with shapes (3,2) (3,) ",
     "output_type": "error",
     "traceback": [
      "\u001b[1;31m---------------------------------------------------------------------------\u001b[0m",
      "\u001b[1;31mValueError\u001b[0m                                Traceback (most recent call last)",
      "\u001b[1;32m<ipython-input-373-0478d8575e46>\u001b[0m in \u001b[0;36m<module>\u001b[1;34m()\u001b[0m\n\u001b[0;32m      1\u001b[0m \u001b[0mM\u001b[0m \u001b[1;33m=\u001b[0m \u001b[0mnp\u001b[0m\u001b[1;33m.\u001b[0m\u001b[0mones\u001b[0m\u001b[1;33m(\u001b[0m\u001b[1;33m(\u001b[0m\u001b[1;36m3\u001b[0m\u001b[1;33m,\u001b[0m \u001b[1;36m2\u001b[0m\u001b[1;33m)\u001b[0m\u001b[1;33m)\u001b[0m\u001b[1;33m\u001b[0m\u001b[0m\n\u001b[0;32m      2\u001b[0m \u001b[0ma\u001b[0m \u001b[1;33m=\u001b[0m \u001b[0mnp\u001b[0m\u001b[1;33m.\u001b[0m\u001b[0marange\u001b[0m\u001b[1;33m(\u001b[0m\u001b[1;36m3\u001b[0m\u001b[1;33m)\u001b[0m\u001b[1;33m\u001b[0m\u001b[0m\n\u001b[1;32m----> 3\u001b[1;33m \u001b[0mM\u001b[0m\u001b[1;33m+\u001b[0m\u001b[0ma\u001b[0m\u001b[1;33m\u001b[0m\u001b[0m\n\u001b[0m",
      "\u001b[1;31mValueError\u001b[0m: operands could not be broadcast together with shapes (3,2) (3,) "
     ]
    }
   ],
   "source": [
    "M = np.ones((3, 2))\n",
    "a = np.arange(3)\n",
    "M+a"
   ]
  },
  {
   "cell_type": "markdown",
   "metadata": {},
   "source": [
    "Обратите внимание на имеющийся потенциальный источник ошибки: можно было бы сделать массивы a и M совместимыми, скажем путем дополнения формы a единицами справа, а не слева. Но правила транслирования работают не так! \n",
    "Если вам хочется применить правостороннее дополнение, можете сделать это явным образом, поменяв форму массива. Для этого воспользуемся ключевым словом `np.newaxis`:"
   ]
  },
  {
   "cell_type": "code",
   "execution_count": 374,
   "metadata": {},
   "outputs": [
    {
     "data": {
      "text/plain": [
       "(3, 1)"
      ]
     },
     "execution_count": 374,
     "metadata": {},
     "output_type": "execute_result"
    }
   ],
   "source": [
    "a[:, np.newaxis].shape"
   ]
  },
  {
   "cell_type": "code",
   "execution_count": 375,
   "metadata": {},
   "outputs": [
    {
     "data": {
      "text/plain": [
       "array([[1., 1.],\n",
       "       [2., 2.],\n",
       "       [3., 3.]])"
      ]
     },
     "execution_count": 375,
     "metadata": {},
     "output_type": "execute_result"
    }
   ],
   "source": [
    "M + a[:, np.newaxis]"
   ]
  },
  {
   "cell_type": "markdown",
   "metadata": {},
   "source": [
    "Этом краткий обзор затронул многие важные вещи, которые вам нужно знать о numpy, но далеко не все. Смотрите [документацию по numpy](http://docs.scipy.org/doc/numpy/reference/), чтобы узнать больше о numpy."
   ]
  },
  {
   "cell_type": "markdown",
   "metadata": {},
   "source": [
    "##### <font color=red>Задание</font>\n",
    "Возможна ли совместная трансляция массивов с формами:\n",
    "1. (100,100,4) и (3) ?\n",
    "2. (15,1,6,5) и (7,1,5) ?\n",
    "3. (12,3,8) и (3,1) ?\n",
    "4. (10,4,1,6) и (3,1,6) ?\n",
    "5. (10,1) и (1,10,3) ?\n",
    "\n",
    "Дать подробные ответы (аналогично примерам, приведенным выше) со ссылками на правила трансляции и сопроводить примерами с вычислениями и комментариями."
   ]
  },
  {
   "cell_type": "code",
   "execution_count": 376,
   "metadata": {},
   "outputs": [],
   "source": [
    "# Выполнение задания.\n",
    "\n",
    "# Первый случай - размерности массивов несовместимы, поэтому нельзя применить трансляцию.\n",
    "# Трансляция второго массива:\n",
    "# (3) -> (1,1,3) (прав.1) -> (100,100,3) (прав.2)\n",
    "# Итоговые размерности: (100,100,4) и (100,100,3)\n",
    "# По правилу 3 не совместимы\n",
    "\n",
    "# Второй случай\n",
    "# Трансляция второго массива:\n",
    "# (7,1,5) -> (1,7,1,5) (прав.1) -> (15,7,1,5) (прав.2) \n",
    "# Итоговые размерности: (15,1,6,5) и (15,7,1,5)\n",
    "# По правилу 2 оба массива совместимы\n",
    "\n",
    "# Третий случай\n",
    "# Трансляция второго массива:\n",
    "# (3,1) -> (1,3,1) (прав.1) -> (12,3,1)  (прав.2)\n",
    "# Итоговые размерности: (12,3,8) и (12,3,1)\n",
    "# По правилу 2 оба массива совместимы\n",
    "\n",
    "# Четвертый случай\n",
    "# Трансляция второго массива:\n",
    "# (3,1,6)->(1,3,1,6) -> (10,3,1,6)\n",
    "# Итоговые размерности: (10,4,1,6) и (10,3,1,6)\n",
    "# По правилу 3 не совместимы\n",
    "\n",
    "# Пятый случай\n",
    "# Трансляция первого массива:\n",
    "#(10,1) -> (1,10,1)\n",
    "# Итоговые размерности: (1,10,1) и (1,10,3)\n",
    "# По правилу 2 оба массива совместимы"
   ]
  },
  {
   "cell_type": "markdown",
   "metadata": {},
   "source": [
    "#### Универсальные функции"
   ]
  },
  {
   "cell_type": "markdown",
   "metadata": {},
   "source": [
    "Функции, поддерживающие трансляцию, известны как **универсальные функции**. Вы можете найти список всех универсальных функций в [документации](http://docs.scipy.org/doc/numpy/reference/ufuncs.html#available-ufuncs)."
   ]
  },
  {
   "cell_type": "markdown",
   "metadata": {},
   "source": [
    "**<font color=orange>Вычисления с применением векторизации посредством универсальных функций практически всегда более эффективны, чем их эквиваленты, реализованные с помощью циклов Python, особенно при росте размера массивов.</font>**"
   ]
  },
  {
   "cell_type": "markdown",
   "metadata": {},
   "source": [
    "* Арифметические функции над массивами"
   ]
  },
  {
   "cell_type": "code",
   "execution_count": 377,
   "metadata": {},
   "outputs": [
    {
     "name": "stdout",
     "output_type": "stream",
     "text": [
      "x     = [0 1 2 3]\n",
      "x + 5 = [5 6 7 8]\n",
      "x - 5 = [-5 -4 -3 -2]\n",
      "x * 2 = [0 2 4 6]\n",
      "x / 2 = [0.  0.5 1.  1.5]\n",
      "x // 2 = [0 0 1 1]\n",
      "-x     =  [ 0 -1 -2 -3]\n",
      "x ** 2 =  [0 1 4 9]\n",
      "x % 2  =  [0 1 0 1]\n"
     ]
    }
   ],
   "source": [
    " x = np.arange(4)\n",
    "print(\"x     =\", x)\n",
    "print(\"x + 5 =\", x + 5)\n",
    "print(\"x - 5 =\", x - 5)\n",
    "print(\"x * 2 =\", x * 2)\n",
    "print(\"x / 2 =\", x / 2)\n",
    "print(\"x // 2 =\", x // 2)  # деление с округлением в меньшую сторону\n",
    "print(\"-x     = \", -x)\n",
    "print(\"x ** 2 = \", x ** 2)\n",
    "print(\"x % 2  = \", x % 2)"
   ]
  },
  {
   "cell_type": "markdown",
   "metadata": {},
   "source": [
    "Дополнительно эти операции можно комбинировать любыми способами с соблюдением стандартного приоритета выполнения операций:\n"
   ]
  },
  {
   "cell_type": "code",
   "execution_count": 378,
   "metadata": {},
   "outputs": [
    {
     "data": {
      "text/plain": [
       "array([-1.  , -2.25, -4.  , -6.25])"
      ]
     },
     "execution_count": 378,
     "metadata": {},
     "output_type": "execute_result"
    }
   ],
   "source": [
    "-(0.5*x + 1) ** 2"
   ]
  },
  {
   "cell_type": "markdown",
   "metadata": {},
   "source": [
    "* Абсолютное значение."
   ]
  },
  {
   "cell_type": "markdown",
   "metadata": {},
   "source": [
    "Используется универсальная функция библиотеки NumPy — `np.absolute`, доступная также под псевдонимом `np.abs`:"
   ]
  },
  {
   "cell_type": "code",
   "execution_count": 379,
   "metadata": {},
   "outputs": [
    {
     "data": {
      "text/plain": [
       "array([0, 1, 2, 3])"
      ]
     },
     "execution_count": 379,
     "metadata": {},
     "output_type": "execute_result"
    }
   ],
   "source": [
    "np.absolute(x)"
   ]
  },
  {
   "cell_type": "code",
   "execution_count": 380,
   "metadata": {},
   "outputs": [
    {
     "data": {
      "text/plain": [
       "array([0, 1, 2, 3])"
      ]
     },
     "execution_count": 380,
     "metadata": {},
     "output_type": "execute_result"
    }
   ],
   "source": [
    "np.abs(x)"
   ]
  },
  {
   "cell_type": "code",
   "execution_count": 381,
   "metadata": {},
   "outputs": [
    {
     "data": {
      "text/plain": [
       "array([5., 5., 2., 1.])"
      ]
     },
     "execution_count": 381,
     "metadata": {},
     "output_type": "execute_result"
    }
   ],
   "source": [
    "x = np.array([3 - 4j, 4 - 3j, 2 + 0j, 0 + 1j])\n",
    "np.abs(x)"
   ]
  },
  {
   "cell_type": "markdown",
   "metadata": {},
   "source": [
    "#### Указание массива для вывода результата\n",
    "При больших вычислениях удобно задать массив, в котором будет сохранен результат вычисления. Вместо того чтобы создавать временный массив, можно воспользоваться этой возможностью для записи результатов вычислений непосредственно \n",
    "в нужное вам место памяти. Сделать это для любой универсальной функции можно с помощью аргумента out:"
   ]
  },
  {
   "cell_type": "code",
   "execution_count": 382,
   "metadata": {},
   "outputs": [
    {
     "name": "stdout",
     "output_type": "stream",
     "text": [
      "[ 0. 10. 20. 30. 40.]\n"
     ]
    }
   ],
   "source": [
    "x = np.arange(5)\n",
    "y = np.empty(5)\n",
    "np.multiply(x, 10, out=y)\n",
    "print(y)"
   ]
  },
  {
   "cell_type": "markdown",
   "metadata": {},
   "source": [
    "Эту возможность можно использовать даже вместе с представлениями массивов. Например, можно записать результаты вычислений в каждый второй элемент заданного массива:"
   ]
  },
  {
   "cell_type": "code",
   "execution_count": 383,
   "metadata": {},
   "outputs": [
    {
     "name": "stdout",
     "output_type": "stream",
     "text": [
      "[ 1.  0.  2.  0.  4.  0.  8.  0. 16.  0.]\n"
     ]
    }
   ],
   "source": [
    "y = np.zeros(10)\n",
    "np.power(2, x, out=y[::2])\n",
    "print(y)"
   ]
  },
  {
   "cell_type": "markdown",
   "metadata": {},
   "source": [
    "Если бы мы вместо этого написали `y[::2] = 2 ** x`, был бы создан временный массив для хранения результатов операции `2 ** x` с последующим копированием этих значений в массив y. Для столь незначительных объемов вычислений особой разницы нет, но для очень больших массивов экономия памяти за счет аккуратного использования аргумента out может оказаться значительной."
   ]
  },
  {
   "cell_type": "markdown",
   "metadata": {},
   "source": [
    "##### <font color=red>Задание</font>\n",
    "Создать класс наследник от класса учета рейтинга студентов (**StudentsRaiting**) и расширить его методами рассчета статистики по предметам (средний балл, максимальный балл, минимальный балл). Для этого нужно преобразовать данные об оценках из словаря в массив и использовать функции библиотеки Numpy.\n",
    "\n",
    "Примечание: Использовать универсальные функции для работы с массивами numpy."
   ]
  },
  {
   "cell_type": "code",
   "execution_count": 19,
   "metadata": {},
   "outputs": [
    {
     "name": "stdout",
     "output_type": "stream",
     "text": [
      "Студент  Сидоров Василий Федорович  добавлен!\n",
      "\n",
      "Студент  Петухов Василий Николаевич  добавлен!\n",
      "\n",
      "Средний балл: 3.25\n",
      "Средний балл по первому предмету: 3.25\n",
      "Средний балл по второму предмету: 2.5\n",
      "Средний балл по третьему предмету: 3.75\n",
      "Средний балл по четвертому предмету: 3.5\n",
      "Максимальный балл: 5\n",
      "Максимальный балл по первому предмету: 5\n",
      "Максимальный балл по второму предмету: 4\n",
      "Максимальный балл по третьему предмету: 5\n",
      "Максимальный балл по четвертому предмету: 4\n",
      "Минимальный балл: 1\n",
      "Минимальный по первому предмету: 1\n",
      "Минимальный по второму предмету: 1\n",
      "Минимальный по третьему предмету: 2\n",
      "Минимальный по четвертому предмету: 3\n"
     ]
    }
   ],
   "source": [
    "# Выполнение задания\n",
    "\n",
    "class AdvancedRating(StudentsRating):\n",
    "    def average(self):\n",
    "        arr = np.array(list(self.students.values()))\n",
    "        print(\"Средний балл:\", np.mean(arr))\n",
    "        means = np.mean(arr, axis=0)\n",
    "        print(\"Средний балл по первому предмету:\", means[0])\n",
    "        print(\"Средний балл по второму предмету:\", means[1])\n",
    "        print(\"Средний балл по третьему предмету:\", means[2])\n",
    "        print(\"Средний балл по четвертому предмету:\", means[3])\n",
    "        \n",
    "    def max(self):\n",
    "        arr = np.array(list(self.students.values()))\n",
    "        print(\"Максимальный балл:\", np.max(arr))\n",
    "        means = np.max(arr, axis=0)\n",
    "        print(\"Максимальный балл по первому предмету:\", means[0])\n",
    "        print(\"Максимальный балл по второму предмету:\", means[1])\n",
    "        print(\"Максимальный балл по третьему предмету:\", means[2])\n",
    "        print(\"Максимальный балл по четвертому предмету:\", means[3])\n",
    "        \n",
    "    def min(self):\n",
    "        arr = np.array(list(self.students.values()))\n",
    "        print(\"Минимальный балл:\", np.min(arr))\n",
    "        means = np.min(arr, axis=0)\n",
    "        print(\"Минимальный по первому предмету:\", means[0])\n",
    "        print(\"Минимальный по второму предмету:\", means[1])\n",
    "        print(\"Минимальный по третьему предмету:\", means[2])\n",
    "        print(\"Минимальный по четвертому предмету:\", means[3])\n",
    "        \n",
    "    \n",
    "rating = AdvancedRating({\"Иванов Петр Николавич\":(3,3,5,4), \"Петров Иван Константинович\":(5,4,5,4)})\n",
    "rating.add_student(\"Сидоров Василий Федорович\", (1,1,2,3))\n",
    "rating.add_student(\"Петухов Василий Николаевич\", (4,2,3,3))\n",
    "\n",
    "rating.average()\n",
    "rating.max()\n",
    "rating.min()"
   ]
  },
  {
   "cell_type": "markdown",
   "metadata": {},
   "source": [
    "##### <font color=red>Задание</font>\n",
    "0. Создать функцию `Function1(x)`, возвращающую вектор `y`, размер которого равен размеру вектора `x` и выполняющую поэлементное вычисление по формуле `y=1/(1+exp(-x)`. Создать функцию `Function2(x)`, возвращающую вектор `y`, размер которого равен размеру вектора `x` и выполняющую поэлементное вычисление по формуле `y=max(0,x)`.\n",
    "1. Написать функцию `LinearTransform(M,x,b)`, где `M` - матрица, `x` - вектор, `b` - число. Функция должна ввозвращать вектор `y`, размер которого равен размеру вектора `x`, где `y` рассчитывается по формуле `y=M*x+b`, здесь под операцией `*` понимается операция скалярного произведения (dot product) матрицы на вектор.\n",
    "2. Написать функцию `Transform(M1,M2,x,b1,b2)`, где `M1`,`M2` - матрицы, `x` - вектор, `b1`,`b2` - числа. Функция должна ввозвращать вектор `y`, размер которого равен размеру вектора `x`, где `y` рассчитывается по формуле `y=Function2(LinearTransform(M2,x2,b2))`, а `x2=Function1(LinearTransform(M1,x,b1))`.\n",
    "3. Задать матрицы M1,M2 размером MxN, вектор размером N, и числа b1,b2 и выполнить вычисления `Transform(M1,M2,x,b1,b2)`, производя замеры времени выполнения функции. **Значения M и N нужно узнать у преподавателя.** \n",
    "\n",
    "Все функции задания нужно реализовать в двух вариантах: \n",
    "* с использованием универсальных векторизованных операций;\n",
    "* с использованием циклов для вычислений.\n",
    "\n",
    "Сравнить время выполнения для обеих реализаций и сделать выводы."
   ]
  },
  {
   "cell_type": "code",
   "execution_count": 46,
   "metadata": {},
   "outputs": [
    {
     "name": "stdout",
     "output_type": "stream",
     "text": [
      "368 µs ± 15.9 µs per loop (mean ± std. dev. of 7 runs, 1000 loops each)\n",
      "15.1 µs ± 867 ns per loop (mean ± std. dev. of 7 runs, 100000 loops each)\n"
     ]
    }
   ],
   "source": [
    "#Выполнение задания\n",
    "import random\n",
    "import math\n",
    "\n",
    "M = 40\n",
    "N = 40\n",
    "\n",
    "M1_naive = [[random.random() for e in range(N)] for e in range(M)]\n",
    "M2_naive = [[random.random() for e in range(N)] for e in range(M)]\n",
    "\n",
    "#print(\"M1_naive:\\n\", M1_naive)\n",
    "#print(\"M2_naive:\\n\", M2_naive)\n",
    "\n",
    "M1_numpy = np.array(M1_naive)\n",
    "M2_numpy = np.array(M2_naive)\n",
    "\n",
    "#print(\"M1_numpy:\\n\", M1_numpy)\n",
    "#print(\"M2_numpy:\\n\", M2_numpy)\n",
    "\n",
    "x_naive = random.sample(range(100), N)\n",
    "x_numpy = np.array(x_naive)\n",
    "\n",
    "#print(\"X_naive:\\n\", x_naive)\n",
    "#print(\"X_numpy:\\n\", x_numpy)\n",
    "\n",
    "b1 = np.random.randint(100)\n",
    "b2 = np.random.randint(100)\n",
    "\n",
    "#print(\"b1:\\n\", b1)\n",
    "#print(\"b2:\\n\", b2)\n",
    "\n",
    "def Function1_naive(x):\n",
    "    return [1/(1+math.exp(-i)) for i in x]\n",
    "\n",
    "def Function2_naive(x):\n",
    "    return [max(0,i) for i in x]\n",
    "\n",
    "def LinearTransform_naive(M,x,b):\n",
    "    result = [0 for i in range(len(x))]\n",
    "    for i, row in enumerate(M):\n",
    "        sum = 0\n",
    "        for j, col in enumerate(row):\n",
    "            sum = sum + col * x[j]\n",
    "        result[i] = sum\n",
    "    for index, elem  in enumerate(result):\n",
    "        result[index]=elem+b\n",
    "    return result\n",
    "\n",
    "def Transform_naive(M1,M2,x,b1,b2):\n",
    "    x2=Function1_naive(LinearTransform_naive(M1,x,b1))\n",
    "    y=Function2_naive(LinearTransform_naive(M2,x2,b2))\n",
    "    return y\n",
    "\n",
    "def Function1_numpy(x):\n",
    "    return 1/(1+np.exp(-x))\n",
    "\n",
    "def Function2_numpy(x):\n",
    "    return np.maximum(0,x)\n",
    "\n",
    "def LinearTransform_numpy(M,x,b):\n",
    "    return M.dot(x)+b\n",
    "\n",
    "def Transform_numpy(M1,M2,x,b1,b2):\n",
    "    x2=Function1_numpy(LinearTransform_numpy(M1,x,b1))\n",
    "    y=Function2_numpy(LinearTransform_numpy(M2,x2,b2))\n",
    "    return y\n",
    "\n",
    "%timeit Transform_naive(M1_naive,M2_naive,x_naive,b1,b2)\n",
    "%timeit Transform_numpy(M1_numpy, M2_numpy, x_numpy, b1,b2)\n",
    "\n",
    "y_naive = Transform_naive(M1_naive,M2_naive,x_naive,b1,b2)\n",
    "y_numpy = Transform_numpy(M1_numpy, M2_numpy, x_numpy, b1,b2)\n",
    "            \n",
    "#print(y_naive)\n",
    "#print(y_numpy)\n",
    "\n",
    "\n"
   ]
  },
  {
   "cell_type": "code",
   "execution_count": null,
   "metadata": {},
   "outputs": [],
   "source": []
  },
  {
   "cell_type": "code",
   "execution_count": null,
   "metadata": {},
   "outputs": [],
   "source": []
  }
 ],
 "metadata": {
  "kernelspec": {
   "display_name": "Python 3",
   "language": "python",
   "name": "python3"
  },
  "language_info": {
   "codemirror_mode": {
    "name": "ipython",
    "version": 3
   },
   "file_extension": ".py",
   "mimetype": "text/x-python",
   "name": "python",
   "nbconvert_exporter": "python",
   "pygments_lexer": "ipython3",
   "version": "3.6.5"
  }
 },
 "nbformat": 4,
 "nbformat_minor": 2
}
