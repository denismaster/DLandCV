{
 "cells": [
  {
   "cell_type": "markdown",
   "metadata": {},
   "source": [
    "Dropout[1] - метод регуляризации нейронных сетей путем случайной установки некоторых признаков в ноль во время прямого распространения. В этом задании необходимо реализовать слой Dropout и модифицировать полносвязанный класс, чтобы, при необходимости, использовать Dropout.\n",
    "\n",
    "[1] [Geoffrey E. Hinton et al, \"Improving neural networks by preventing co-adaptation of feature detectors\", arXiv 2012](https://arxiv.org/abs/1207.0580)"
   ]
  },
  {
   "cell_type": "code",
   "execution_count": 3,
   "metadata": {},
   "outputs": [
    {
     "name": "stdout",
     "output_type": "stream",
     "text": [
      "The autoreload extension is already loaded. To reload it, use:\n",
      "  %reload_ext autoreload\n"
     ]
    }
   ],
   "source": [
    "# As usual, a bit of setup\n",
    "from __future__ import print_function\n",
    "import time\n",
    "import numpy as np\n",
    "import matplotlib.pyplot as plt\n",
    "from cs231n.classifiers.fc_net import *\n",
    "from cs231n.data_utils import get_CIFAR10_data\n",
    "from cs231n.gradient_check import eval_numerical_gradient, eval_numerical_gradient_array\n",
    "from cs231n.solver import Solver\n",
    "\n",
    "%matplotlib inline\n",
    "plt.rcParams['figure.figsize'] = (10.0, 8.0) # set default size of plots\n",
    "plt.rcParams['image.interpolation'] = 'nearest'\n",
    "plt.rcParams['image.cmap'] = 'gray'\n",
    "\n",
    "# for auto-reloading external modules\n",
    "# see http://stackoverflow.com/questions/1907993/autoreload-of-modules-in-ipython\n",
    "%load_ext autoreload\n",
    "%autoreload 2\n",
    "\n",
    "def rel_error(x, y):\n",
    "  \"\"\" returns relative error \"\"\"\n",
    "  return np.max(np.abs(x - y) / (np.maximum(1e-8, np.abs(x) + np.abs(y))))"
   ]
  },
  {
   "cell_type": "code",
   "execution_count": 4,
   "metadata": {},
   "outputs": [
    {
     "name": "stdout",
     "output_type": "stream",
     "text": [
      "X_train:  (49000, 3, 32, 32)\n",
      "y_train:  (49000,)\n",
      "X_val:  (1000, 3, 32, 32)\n",
      "y_val:  (1000,)\n",
      "X_test:  (1000, 3, 32, 32)\n",
      "y_test:  (1000,)\n"
     ]
    }
   ],
   "source": [
    "# Load the (preprocessed) CIFAR10 data.\n",
    "\n",
    "data = get_CIFAR10_data()\n",
    "for k, v in data.items():\n",
    "  print('%s: ' % k, v.shape)"
   ]
  },
  {
   "cell_type": "markdown",
   "metadata": {},
   "source": [
    "# Dropout: прямой путь\n",
    "В файле `cs231n / layers.py`, реализуйте прямое распространение для Dropout. Поскольку Dropout ведет себя по-разному во время обучения и тестирования, обязательно выполните операцию для обоих режимов.\n",
    "\n",
    "Затем запустите ячейку ниже, чтобы проверить реализацию (возможно Вам повезло и код уже реализован)."
   ]
  },
  {
   "cell_type": "code",
   "execution_count": 5,
   "metadata": {},
   "outputs": [
    {
     "name": "stdout",
     "output_type": "stream",
     "text": [
      "Running tests with p =  0.25\n",
      "Mean of input:  10.000207878477502\n",
      "Mean of train-time output:  10.014059116977283\n",
      "Mean of test-time output:  10.000207878477502\n",
      "Fraction of train-time output set to zero:  0.749784\n",
      "Fraction of test-time output set to zero:  0.0\n",
      "\n",
      "Running tests with p =  0.4\n",
      "Mean of input:  10.000207878477502\n",
      "Mean of train-time output:  9.977917658761159\n",
      "Mean of test-time output:  10.000207878477502\n",
      "Fraction of train-time output set to zero:  0.600796\n",
      "Fraction of test-time output set to zero:  0.0\n",
      "\n",
      "Running tests with p =  0.7\n",
      "Mean of input:  10.000207878477502\n",
      "Mean of train-time output:  9.987811912159426\n",
      "Mean of test-time output:  10.000207878477502\n",
      "Fraction of train-time output set to zero:  0.30074\n",
      "Fraction of test-time output set to zero:  0.0\n",
      "\n"
     ]
    }
   ],
   "source": [
    "np.random.seed(231)\n",
    "x = np.random.randn(500, 500) + 10\n",
    "\n",
    "for p in [0.25, 0.4, 0.7]:\n",
    "  out, _ = dropout_forward(x, {'mode': 'train', 'p': p})\n",
    "  out_test, _ = dropout_forward(x, {'mode': 'test', 'p': p})\n",
    "\n",
    "  print('Running tests with p = ', p)\n",
    "  print('Mean of input: ', x.mean())\n",
    "  print('Mean of train-time output: ', out.mean())\n",
    "  print('Mean of test-time output: ', out_test.mean())\n",
    "  print('Fraction of train-time output set to zero: ', (out == 0).mean())\n",
    "  print('Fraction of test-time output set to zero: ', (out_test == 0).mean())\n",
    "  print()"
   ]
  },
  {
   "cell_type": "markdown",
   "metadata": {},
   "source": [
    "# Dropout : обратный путь\n",
    "В файле `cs231n / layers.py`, реализуйте обратный путь для Dropout. После этого запустите код ниже для проверки градиента."
   ]
  },
  {
   "cell_type": "code",
   "execution_count": 6,
   "metadata": {},
   "outputs": [
    {
     "name": "stdout",
     "output_type": "stream",
     "text": [
      "dx relative error:  5.44560814873387e-11\n"
     ]
    }
   ],
   "source": [
    "np.random.seed(231)\n",
    "x = np.random.randn(10, 10) + 10\n",
    "dout = np.random.randn(*x.shape)\n",
    "\n",
    "dropout_param = {'mode': 'train', 'p': 0.2, 'seed': 123}\n",
    "out, cache = dropout_forward(x, dropout_param)\n",
    "dx = dropout_backward(dout, cache)\n",
    "dx_num = eval_numerical_gradient_array(lambda xx: dropout_forward(xx, dropout_param)[0], x, dout)\n",
    "\n",
    "# Error should be around e-10 or less\n",
    "print('dx relative error: ', rel_error(dx, dx_num))"
   ]
  },
  {
   "cell_type": "markdown",
   "metadata": {},
   "source": [
    "## Вопрос 1:\n",
    "Что произойдет, если мы не разделим значения, передаваемые по обратному пути  на `p` ? "
   ]
  },
  {
   "cell_type": "markdown",
   "metadata": {},
   "source": [
    "## Ответ:\n",
    "\n",
    "Иначе мы будем считать, что выход слоя будет px вместо x, поэтому что мы умножаем его на  1 / p."
   ]
  },
  {
   "cell_type": "markdown",
   "metadata": {},
   "source": [
    "# Полносвязанные сети с Dropout\n",
    "В файле `cs231n / classifiers / fc_net.py` измените  реализацию, чтобы использовать Dropout. Если конструктор сети получает значение, не равное 1 для параметра `dropout`, то сеть должна добавить dropout сразу после каждой нелинейности ReLU. После этого выполните проверку градиента ниже в ячейке."
   ]
  },
  {
   "cell_type": "code",
   "execution_count": 7,
   "metadata": {},
   "outputs": [
    {
     "name": "stdout",
     "output_type": "stream",
     "text": [
      "Running check with dropout =  1\n",
      "Initial loss:  2.3004790897684924\n",
      "W1 relative error: 1.48e-07\n",
      "W2 relative error: 2.21e-05\n",
      "W3 relative error: 3.53e-07\n",
      "b1 relative error: 5.38e-09\n",
      "b2 relative error: 2.09e-09\n",
      "b3 relative error: 5.80e-11\n",
      "\n",
      "Running check with dropout =  0.75\n",
      "Initial loss:  2.3032347226387464\n",
      "W1 relative error: 6.46e-08\n",
      "W2 relative error: 2.92e-07\n",
      "W3 relative error: 2.09e-08\n",
      "b1 relative error: 1.23e-08\n",
      "b2 relative error: 1.59e-09\n",
      "b3 relative error: 9.52e-11\n",
      "\n",
      "Running check with dropout =  0.5\n",
      "Initial loss:  2.303349343266342\n",
      "W1 relative error: 1.10e-08\n",
      "W2 relative error: 1.92e-08\n",
      "W3 relative error: 3.14e-08\n",
      "b1 relative error: 5.52e-09\n",
      "b2 relative error: 3.32e-09\n",
      "b3 relative error: 1.40e-10\n",
      "\n"
     ]
    }
   ],
   "source": [
    "np.random.seed(231)\n",
    "N, D, H1, H2, C = 2, 15, 20, 30, 10\n",
    "X = np.random.randn(N, D)\n",
    "y = np.random.randint(C, size=(N,))\n",
    "\n",
    "for dropout in [1, 0.75, 0.5]:\n",
    "  print('Running check with dropout = ', dropout)\n",
    "  model = FullyConnectedNet([H1, H2], input_dim=D, num_classes=C,\n",
    "                            weight_scale=5e-2, dtype=np.float64,\n",
    "                            dropout=dropout, seed=123)\n",
    "\n",
    "  loss, grads = model.loss(X, y)\n",
    "  print('Initial loss: ', loss)\n",
    "  \n",
    "  # Relative errors should be around e-6 or less; Note that it's fine\n",
    "  # if for dropout=1 you have W2 error be on the order of e-5.\n",
    "  for name in sorted(grads):\n",
    "    f = lambda _: model.loss(X, y)[0]\n",
    "    grad_num = eval_numerical_gradient(f, model.params[name], verbose=False, h=1e-5)\n",
    "    print('%s relative error: %.2e' % (name, rel_error(grad_num, grads[name])))\n",
    "  print()"
   ]
  },
  {
   "cell_type": "markdown",
   "metadata": {},
   "source": [
    "# Эксперимент с регуляризацией\n",
    "В качестве эксперимента обучим 2 двухслойные сети на 500 примерах: одна из них не будет использовать dropout, а другая будет использовать с вероятность сохранения активности 0,25. Затем визуализируем зависимости точности обучения и валидации двух сетей с течением времени."
   ]
  },
  {
   "cell_type": "code",
   "execution_count": 8,
   "metadata": {
    "scrolled": false
   },
   "outputs": [
    {
     "name": "stdout",
     "output_type": "stream",
     "text": [
      "1\n",
      "(Iteration 1 / 125) loss: 7.856643\n",
      "(Epoch 0 / 25) train acc: 0.260000; val_acc: 0.184000\n",
      "(Epoch 1 / 25) train acc: 0.414000; val_acc: 0.261000\n",
      "(Epoch 2 / 25) train acc: 0.482000; val_acc: 0.278000\n",
      "(Epoch 3 / 25) train acc: 0.538000; val_acc: 0.274000\n",
      "(Epoch 4 / 25) train acc: 0.604000; val_acc: 0.266000\n",
      "(Epoch 5 / 25) train acc: 0.740000; val_acc: 0.301000\n",
      "(Epoch 6 / 25) train acc: 0.738000; val_acc: 0.287000\n",
      "(Epoch 7 / 25) train acc: 0.832000; val_acc: 0.261000\n",
      "(Epoch 8 / 25) train acc: 0.856000; val_acc: 0.270000\n",
      "(Epoch 9 / 25) train acc: 0.896000; val_acc: 0.282000\n",
      "(Epoch 10 / 25) train acc: 0.922000; val_acc: 0.267000\n",
      "(Epoch 11 / 25) train acc: 0.926000; val_acc: 0.271000\n",
      "(Epoch 12 / 25) train acc: 0.944000; val_acc: 0.299000\n",
      "(Epoch 13 / 25) train acc: 0.964000; val_acc: 0.299000\n",
      "(Epoch 14 / 25) train acc: 0.982000; val_acc: 0.300000\n",
      "(Epoch 15 / 25) train acc: 0.980000; val_acc: 0.287000\n",
      "(Epoch 16 / 25) train acc: 0.976000; val_acc: 0.296000\n",
      "(Epoch 17 / 25) train acc: 0.972000; val_acc: 0.302000\n",
      "(Epoch 18 / 25) train acc: 0.960000; val_acc: 0.293000\n",
      "(Epoch 19 / 25) train acc: 0.962000; val_acc: 0.299000\n",
      "(Epoch 20 / 25) train acc: 0.974000; val_acc: 0.310000\n",
      "(Iteration 101 / 125) loss: 0.143160\n",
      "(Epoch 21 / 25) train acc: 0.974000; val_acc: 0.299000\n",
      "(Epoch 22 / 25) train acc: 0.986000; val_acc: 0.316000\n",
      "(Epoch 23 / 25) train acc: 0.982000; val_acc: 0.318000\n",
      "(Epoch 24 / 25) train acc: 0.988000; val_acc: 0.312000\n",
      "(Epoch 25 / 25) train acc: 0.994000; val_acc: 0.316000\n",
      "0.25\n",
      "(Iteration 1 / 125) loss: 35.531812\n",
      "(Epoch 0 / 25) train acc: 0.188000; val_acc: 0.180000\n",
      "(Epoch 1 / 25) train acc: 0.292000; val_acc: 0.219000\n",
      "(Epoch 2 / 25) train acc: 0.368000; val_acc: 0.239000\n",
      "(Epoch 3 / 25) train acc: 0.388000; val_acc: 0.278000\n",
      "(Epoch 4 / 25) train acc: 0.464000; val_acc: 0.302000\n",
      "(Epoch 5 / 25) train acc: 0.484000; val_acc: 0.298000\n",
      "(Epoch 6 / 25) train acc: 0.540000; val_acc: 0.312000\n",
      "(Epoch 7 / 25) train acc: 0.514000; val_acc: 0.317000\n",
      "(Epoch 8 / 25) train acc: 0.552000; val_acc: 0.315000\n",
      "(Epoch 9 / 25) train acc: 0.592000; val_acc: 0.303000\n",
      "(Epoch 10 / 25) train acc: 0.612000; val_acc: 0.310000\n",
      "(Epoch 11 / 25) train acc: 0.588000; val_acc: 0.310000\n",
      "(Epoch 12 / 25) train acc: 0.642000; val_acc: 0.305000\n",
      "(Epoch 13 / 25) train acc: 0.644000; val_acc: 0.289000\n",
      "(Epoch 14 / 25) train acc: 0.674000; val_acc: 0.308000\n",
      "(Epoch 15 / 25) train acc: 0.638000; val_acc: 0.315000\n",
      "(Epoch 16 / 25) train acc: 0.662000; val_acc: 0.319000\n",
      "(Epoch 17 / 25) train acc: 0.684000; val_acc: 0.316000\n",
      "(Epoch 18 / 25) train acc: 0.714000; val_acc: 0.304000\n",
      "(Epoch 19 / 25) train acc: 0.728000; val_acc: 0.298000\n",
      "(Epoch 20 / 25) train acc: 0.766000; val_acc: 0.311000\n",
      "(Iteration 101 / 125) loss: 10.332737\n",
      "(Epoch 21 / 25) train acc: 0.748000; val_acc: 0.305000\n",
      "(Epoch 22 / 25) train acc: 0.746000; val_acc: 0.309000\n",
      "(Epoch 23 / 25) train acc: 0.746000; val_acc: 0.307000\n",
      "(Epoch 24 / 25) train acc: 0.762000; val_acc: 0.302000\n",
      "(Epoch 25 / 25) train acc: 0.766000; val_acc: 0.311000\n"
     ]
    }
   ],
   "source": [
    "# Train two identical nets, one with dropout and one without\n",
    "np.random.seed(231)\n",
    "num_train = 500\n",
    "small_data = {\n",
    "  'X_train': data['X_train'][:num_train],\n",
    "  'y_train': data['y_train'][:num_train],\n",
    "  'X_val': data['X_val'],\n",
    "  'y_val': data['y_val'],\n",
    "}\n",
    "\n",
    "solvers = {}\n",
    "dropout_choices = [1, 0.25]\n",
    "for dropout in dropout_choices:\n",
    "  model = FullyConnectedNet([500], dropout=dropout)\n",
    "  print(dropout)\n",
    "\n",
    "  solver = Solver(model, small_data,\n",
    "                  num_epochs=25, batch_size=100,\n",
    "                  update_rule='adam',\n",
    "                  optim_config={\n",
    "                    'learning_rate': 5e-4,\n",
    "                  },\n",
    "                  verbose=True, print_every=100)\n",
    "  solver.train()\n",
    "  solvers[dropout] = solver"
   ]
  },
  {
   "cell_type": "code",
   "execution_count": 9,
   "metadata": {},
   "outputs": [
    {
     "data": {
      "image/png": "[encoded data removed]",
      "text/plain": [
       "<Figure size 1080x1080 with 2 Axes>"
      ]
     },
     "metadata": {
      "needs_background": "light"
     },
     "output_type": "display_data"
    }
   ],
   "source": [
    "# Plot train and validation accuracies of the two models\n",
    "\n",
    "train_accs = []\n",
    "val_accs = []\n",
    "for dropout in dropout_choices:\n",
    "  solver = solvers[dropout]\n",
    "  train_accs.append(solver.train_acc_history[-1])\n",
    "  val_accs.append(solver.val_acc_history[-1])\n",
    "\n",
    "plt.subplot(3, 1, 1)\n",
    "for dropout in dropout_choices:\n",
    "  plt.plot(solvers[dropout].train_acc_history, 'o', label='%.2f dropout' % dropout)\n",
    "plt.title('Train accuracy')\n",
    "plt.xlabel('Epoch')\n",
    "plt.ylabel('Accuracy')\n",
    "plt.legend(ncol=2, loc='lower right')\n",
    "  \n",
    "plt.subplot(3, 1, 2)\n",
    "for dropout in dropout_choices:\n",
    "  plt.plot(solvers[dropout].val_acc_history, 'o', label='%.2f dropout' % dropout)\n",
    "plt.title('Val accuracy')\n",
    "plt.xlabel('Epoch')\n",
    "plt.ylabel('Accuracy')\n",
    "plt.legend(ncol=2, loc='lower right')\n",
    "\n",
    "plt.gcf().set_size_inches(15, 15)\n",
    "plt.show()"
   ]
  },
  {
   "cell_type": "markdown",
   "metadata": {},
   "source": [
    "## Вопрос 2:\n",
    "Сравните точность валидации и обучения с dropout и без. Как соотносится dropout и регуляризация, что  говорят об этом результаты Вашего эксперимента?"
   ]
  },
  {
   "cell_type": "markdown",
   "metadata": {},
   "source": [
    "## Ответ:\n",
    "\n",
    "Без использования dropout окончательная разница между точностью обучения (99%) и точностью проверки (29%) составляет около 70%. После использования dropout с p = 0,75, окончательная разница между точностью обучения (92%) и точностью проверки (31%) составляет около 61%. Мы видим, что разница между train и valiation была уменьшена. Таким образом, это предполагает, что dropout может решить проблему переобучения."
   ]
  },
  {
   "cell_type": "markdown",
   "metadata": {},
   "source": [
    "## Вопрос 3:\n",
    "Предположим, что мы обучаем глубокую полносвязанную сеть для классификации изображений, с dropout после скрытых слоев (параметризуемую вероятностью сохранения активности p). Как нам изменить p,  если мы решим уменьшить размер скрытых слоев (т. е. количество узлов в каждом слое)?"
   ]
  },
  {
   "cell_type": "markdown",
   "metadata": {},
   "source": [
    "## Ответ:\n",
    "Установить в 0.5\n",
    "\n",
    "Если идея dropout заключается в том, чтобы эффективно обучить множество подсетей в сети, чтобы  сеть действовала как сумма множества небольших сетей, тогда 50% (p=0.5) привело бы к равному распределению вероятностей для каждой возможной подсети, которую можно создать, выбрасывая нейроны."
   ]
  },
  {
   "cell_type": "code",
   "execution_count": null,
   "metadata": {},
   "outputs": [],
   "source": []
  },
  {
   "cell_type": "code",
   "execution_count": null,
   "metadata": {},
   "outputs": [],
   "source": []
  }
 ],
 "metadata": {
  "kernelspec": {
   "display_name": "Python 3",
   "language": "python",
   "name": "python3"
  },
  "language_info": {
   "codemirror_mode": {
    "name": "ipython",
    "version": 3
   },
   "file_extension": ".py",
   "mimetype": "text/x-python",
   "name": "python",
   "nbconvert_exporter": "python",
   "pygments_lexer": "ipython3",
   "version": "3.6.5"
  }
 },
 "nbformat": 4,
 "nbformat_minor": 2
}
