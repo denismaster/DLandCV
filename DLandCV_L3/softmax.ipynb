{
 "cells": [
  {
   "cell_type": "markdown",
   "metadata": {},
   "source": [
    "# Softmax классификатор\n",
    "\n",
    "*Заполните этот блокнот, выполните код и защитите результаты. Полностью заполненный блокнот необходимо сохранить в электронном виде, передав его копию преподавателю, ведущему занятия. \n",
    "\n",
    "Это задание аналогично заданию исследования SVM классификатора.\n",
    "В этом упражнении вы должны будете:\n",
    "\n",
    "- реализовать полностью векторизованную **функцию потерь** для Sоftmax классификатора\n",
    "- реализовать полностью векторизованное выражение для её **аналитического градиента**\n",
    "- **проверить свою реализацию** с помощью численного градиента\n",
    "- использовать валидационное множество для подбора **скорости обучения и коэффициента регуляризации**\n",
    "- **оптимизировать** функцию потерь с помощью алгоритма **SGD**\n",
    "- **визуализировать** окончательные обученные веса классификатора\n",
    "\n",
    "Этот блокнот является адаптированной версией аналогичного курса [Стэнфордского университета](http://vision.stanford.edu/teaching/cs231n/index.html)\n"
   ]
  },
  {
   "cell_type": "code",
   "execution_count": 3,
   "metadata": {},
   "outputs": [],
   "source": [
    "from __future__ import print_function\n",
    "\n",
    "import random\n",
    "import numpy as np\n",
    "from cs231n.data_utils import load_CIFAR10\n",
    "import matplotlib.pyplot as plt\n",
    "\n",
    "\n",
    "\n",
    "%matplotlib inline\n",
    "plt.rcParams['figure.figsize'] = (10.0, 8.0) # set default size of plots\n",
    "plt.rcParams['image.interpolation'] = 'nearest'\n",
    "plt.rcParams['image.cmap'] = 'gray'\n",
    "\n",
    "# Для перезагрузки внешних модули python;\n",
    "# см. http://stackoverflow.com/questions/1907993/autoreload-of-modules-in-ipython\n",
    "%load_ext autoreload\n",
    "%autoreload 2"
   ]
  },
  {
   "cell_type": "code",
   "execution_count": 4,
   "metadata": {},
   "outputs": [
    {
     "name": "stdout",
     "output_type": "stream",
     "text": [
      "Train data shape:  (49000, 3073)\n",
      "Train labels shape:  (49000,)\n",
      "Validation data shape:  (1000, 3073)\n",
      "Validation labels shape:  (1000,)\n",
      "Test data shape:  (1000, 3073)\n",
      "Test labels shape:  (1000,)\n",
      "dev data shape:  (500, 3073)\n",
      "dev labels shape:  (500,)\n"
     ]
    }
   ],
   "source": [
    "def get_CIFAR10_data(num_training=49000, num_validation=1000, num_test=1000, num_dev=500):\n",
    "    \"\"\"\n",
    "    Загружает набор данных CIFAR-10 с диска и выполняет его предварительную обработку для \n",
    "    линейной классификации. Функция выполняет те же действия, которые выполнялись при\n",
    "    подготовке данных для  SVM классификатора.Но все действия собраны в одной функции.\n",
    "       \n",
    "    \"\"\"\n",
    "    # Загрузка базы CIFAR-10.\n",
    "    cifar10_dir = 'cs231n/datasets/cifar-10-batches-py'\n",
    "    \n",
    "    X_train, y_train, X_test, y_test = load_CIFAR10(cifar10_dir)\n",
    "    \n",
    "    # выборка данных\n",
    "    mask = list(range(num_training, num_training + num_validation))\n",
    "    X_val = X_train[mask]\n",
    "    y_val = y_train[mask]\n",
    "    mask = list(range(num_training))\n",
    "    X_train = X_train[mask]\n",
    "    y_train = y_train[mask]\n",
    "    mask = list(range(num_test))\n",
    "    X_test = X_test[mask]\n",
    "    y_test = y_test[mask]\n",
    "    mask = np.random.choice(num_training, num_dev, replace=False)\n",
    "    X_dev = X_train[mask]\n",
    "    y_dev = y_train[mask]\n",
    "    \n",
    "    # Предобработка: реформатирование изображений в векторы\n",
    "    X_train = np.reshape(X_train, (X_train.shape[0], -1))\n",
    "    X_val = np.reshape(X_val, (X_val.shape[0], -1))\n",
    "    X_test = np.reshape(X_test, (X_test.shape[0], -1))\n",
    "    X_dev = np.reshape(X_dev, (X_dev.shape[0], -1))\n",
    "    \n",
    "    # Нормализация данных: вычитание среднего изображения\n",
    "    mean_image = np.mean(X_train, axis = 0)\n",
    "    X_train -= mean_image\n",
    "    X_val -= mean_image\n",
    "    X_test -= mean_image\n",
    "    X_dev -= mean_image\n",
    "    \n",
    "    # добавление смещения и преобразование в столбцы\n",
    "    X_train = np.hstack([X_train, np.ones((X_train.shape[0], 1))])\n",
    "    X_val = np.hstack([X_val, np.ones((X_val.shape[0], 1))])\n",
    "    X_test = np.hstack([X_test, np.ones((X_test.shape[0], 1))])\n",
    "    X_dev = np.hstack([X_dev, np.ones((X_dev.shape[0], 1))])\n",
    "    \n",
    "    return X_train, y_train, X_val, y_val, X_test, y_test, X_dev, y_dev\n",
    "\n",
    "\n",
    "\n",
    "# Очистка переменных для предотвращения повторной загрузки данных (что может вызвать проблемы с памятью)\n",
    "try:\n",
    "   del X_train, y_train\n",
    "   del X_test, y_test\n",
    "   print('Clear previously loaded data.')\n",
    "except:\n",
    "   pass\n",
    "\n",
    "\n",
    "# Вызов функции, определенной выше для получения данных\n",
    "X_train, y_train, X_val, y_val, X_test, y_test, X_dev, y_dev = get_CIFAR10_data()\n",
    "print('Train data shape: ', X_train.shape)\n",
    "print('Train labels shape: ', y_train.shape)\n",
    "print('Validation data shape: ', X_val.shape)\n",
    "print('Validation labels shape: ', y_val.shape)\n",
    "print('Test data shape: ', X_test.shape)\n",
    "print('Test labels shape: ', y_test.shape)\n",
    "print('dev data shape: ', X_dev.shape)\n",
    "print('dev labels shape: ', y_dev.shape)"
   ]
  },
  {
   "cell_type": "markdown",
   "metadata": {},
   "source": [
    "## Softmax классификатор\n",
    "\n",
    "Ваш код для этого раздела необходимо помещать в файл **cs231n/classifiers/softmax.py**. \n"
   ]
  },
  {
   "cell_type": "code",
   "execution_count": 6,
   "metadata": {},
   "outputs": [
    {
     "name": "stdout",
     "output_type": "stream",
     "text": [
      "loss: 2.329127\n",
      "sanity check: 2.302585\n"
     ]
    }
   ],
   "source": [
    "# Сначала реализуем наивную функцию потерь softmax с вложенными циклами.\n",
    "# Откройте файл cs231n/classifiers/softmax.py и реализуйте функцию \n",
    "# softmax_loss_naive.\n",
    "\n",
    "\n",
    "\n",
    "from cs231n.classifiers.softmax import softmax_loss_naive\n",
    "import time\n",
    "\n",
    "# Создание случайной весовой матрицы и использование ее для вычисления потерь (loss).\n",
    "W = np.random.randn(3073, 10) * 0.0001\n",
    "loss, grad = softmax_loss_naive(W, X_dev, y_dev, 0.0)\n",
    "\n",
    "# Проверка здравого смысла -  потери должны быть близкими к -log (0.1).\n",
    "print('loss: %f' % loss)\n",
    "print('sanity check: %f' % (-np.log(0.1)))"
   ]
  },
  {
   "cell_type": "markdown",
   "metadata": {},
   "source": [
    "## Вопрос 1:\n",
    "\n",
    "Почему мы ожидаем, что потери будут близки к -log (0.1)? Объясните кратко. **\n",
    "\n",
    "**Ваш ответ:** *0.1 означает 1/10. А у нас всего 10 классов*\n"
   ]
  },
  {
   "cell_type": "code",
   "execution_count": 7,
   "metadata": {},
   "outputs": [
    {
     "name": "stdout",
     "output_type": "stream",
     "text": [
      "numerical: -2.158271 analytic: -2.158271, relative error: 1.868155e-08\n",
      "numerical: 0.488165 analytic: 0.488165, relative error: 5.387669e-08\n",
      "numerical: 3.144079 analytic: 3.144079, relative error: 9.361243e-09\n",
      "numerical: -1.322869 analytic: -1.322869, relative error: 2.662538e-08\n",
      "numerical: 2.845172 analytic: 2.845172, relative error: 4.621127e-09\n",
      "numerical: -1.146820 analytic: -1.146820, relative error: 1.846301e-08\n",
      "numerical: -1.371010 analytic: -1.371010, relative error: 2.186623e-08\n",
      "numerical: 0.840260 analytic: 0.840260, relative error: 2.307562e-08\n",
      "numerical: 2.714324 analytic: 2.714324, relative error: 1.588501e-09\n",
      "numerical: -1.114562 analytic: -1.114562, relative error: 2.092800e-08\n",
      "numerical: -0.607491 analytic: -0.607491, relative error: 7.389042e-08\n",
      "numerical: 1.733801 analytic: 1.733801, relative error: 1.571870e-08\n",
      "numerical: 2.625624 analytic: 2.625624, relative error: 4.155422e-08\n",
      "numerical: 3.332396 analytic: 3.332396, relative error: 1.507280e-08\n",
      "numerical: -0.817497 analytic: -0.817497, relative error: 8.115585e-09\n",
      "numerical: 0.718347 analytic: 0.718347, relative error: 9.123636e-09\n",
      "numerical: 0.032019 analytic: 0.032019, relative error: 5.721132e-07\n",
      "numerical: -0.933004 analytic: -0.933004, relative error: 9.883913e-08\n",
      "numerical: -1.105582 analytic: -1.105582, relative error: 2.893360e-08\n",
      "numerical: 0.737434 analytic: 0.737434, relative error: 9.155879e-08\n"
     ]
    }
   ],
   "source": [
    "# Завершите реализацию softmax_loss_naive и реализуйте (наивную)\n",
    "# версию вычисления градиента, которая использует вложенные циклы.\n",
    "loss, grad = softmax_loss_naive(W, X_dev, y_dev, 0.0)\n",
    "\n",
    "# Как и для SVM, используйте проверку числового градиента как инструмент отладки.\n",
    "# Числовой градиент должен быть близок к аналитическому градиенту.\n",
    "from cs231n.gradient_check import grad_check_sparse\n",
    "f = lambda w: softmax_loss_naive(w, X_dev, y_dev, 0.0)[0]\n",
    "grad_numerical = grad_check_sparse(f, W, grad, 10)\n",
    "\n",
    "# Аналогично случаю SVM, выполните еще одну проверку градиента с регуляризацией\n",
    "loss, grad = softmax_loss_naive(W, X_dev, y_dev, 5e1)\n",
    "f = lambda w: softmax_loss_naive(w, X_dev, y_dev, 5e1)[0]\n",
    "grad_numerical = grad_check_sparse(f, W, grad, 10)"
   ]
  },
  {
   "cell_type": "code",
   "execution_count": 8,
   "metadata": {},
   "outputs": [
    {
     "name": "stdout",
     "output_type": "stream",
     "text": [
      "naive loss: 2.329127e+00 computed in 56.207997s\n",
      "vectorized loss: 2.329127e+00 computed in 0.013006s\n",
      "Loss difference: 0.000000\n",
      "Gradient difference: 0.000000\n"
     ]
    }
   ],
   "source": [
    "# Теперь, когда у нас есть наивная реализация функции потери softmax и ее градиента,\n",
    "# реализуйте векторную версию функции softmax_loss_vectorized.\n",
    "# Две версии должны вычислять одни и те же результаты, но векторизованная версия должна быть\n",
    "# намного быстрее.\n",
    "tic = time.time()\n",
    "loss_naive, grad_naive = softmax_loss_naive(W, X_dev, y_dev, 0.000005)\n",
    "toc = time.time()\n",
    "print('naive loss: %e computed in %fs' % (loss_naive, toc - tic))\n",
    "\n",
    "from cs231n.classifiers.softmax import softmax_loss_vectorized\n",
    "tic = time.time()\n",
    "loss_vectorized, grad_vectorized = softmax_loss_vectorized(W, X_dev, y_dev, 0.000005)\n",
    "toc = time.time()\n",
    "print('vectorized loss: %e computed in %fs' % (loss_vectorized, toc - tic))\n",
    "\n",
    "# Как и для SVM, мы используем норму Фробениуса для сравнения двух версий\n",
    "# вычисления градиента.\n",
    "grad_difference = np.linalg.norm(grad_naive - grad_vectorized, ord='fro')\n",
    "print('Loss difference: %f' % np.abs(loss_naive - loss_vectorized))\n",
    "print('Gradient difference: %f' % grad_difference)"
   ]
  },
  {
   "cell_type": "code",
   "execution_count": 11,
   "metadata": {},
   "outputs": [
    {
     "name": "stdout",
     "output_type": "stream",
     "text": [
      "**********************************\n",
      "lr: 0.0000001, reg: 25000.0\n",
      "train accuracy: 0.3514\n",
      "validation accuracy: 0.3730\n",
      "**********************************\n",
      "lr: 0.0000001, reg: 50000.0\n",
      "train accuracy: 0.3331\n",
      "validation accuracy: 0.3470\n",
      "**********************************\n",
      "lr: 0.0000005, reg: 25000.0\n",
      "train accuracy: 0.3530\n",
      "validation accuracy: 0.3690\n",
      "**********************************\n",
      "lr: 0.0000005, reg: 50000.0\n",
      "train accuracy: 0.3352\n",
      "validation accuracy: 0.3450\n",
      "lr 1.000000e-07 reg 2.500000e+04 train accuracy: 0.351388 val accuracy: 0.373000\n",
      "lr 1.000000e-07 reg 5.000000e+04 train accuracy: 0.333143 val accuracy: 0.347000\n",
      "lr 5.000000e-07 reg 2.500000e+04 train accuracy: 0.353000 val accuracy: 0.369000\n",
      "lr 5.000000e-07 reg 5.000000e+04 train accuracy: 0.335184 val accuracy: 0.345000\n",
      "best validation accuracy achieved during cross-validation: 0.373000\n"
     ]
    }
   ],
   "source": [
    "# Используйте валидационное множество для выбора гиперпараметров (коэффициента регуляризации и\n",
    "# скорости обучения). Вы должны экспериментировать с различными значениями скорости обучения\n",
    "# и коэффициента регуляризации; если вы будете аккуратны, то должны \n",
    "# получить точность классификации более 0,35 на валидационном множестве.\n",
    "from cs231n.classifiers import Softmax\n",
    "results = {}\n",
    "best_val = -1\n",
    "best_softmax = None\n",
    "learning_rates = [1e-7, 5e-7]\n",
    "regularization_strengths = [2.5e4, 5e4]\n",
    "\n",
    "################################################################################\n",
    "# ЗАДАНИЕ:                                                                     #\n",
    "# Используйте валидационное множество, чтобы выбрать скорость обучения         #\n",
    "# и коэффициент регуляризации. Это аналогично процессу валидации, который вы   #\n",
    "# реализовали для SVM; сохраните лучший обученный softmax классификатор в      #\n",
    "# best_softmax.                                                                #\n",
    "################################################################################\n",
    "def compute_accuracy(y, y_pred):\n",
    "    return np.mean(y == y_pred)\n",
    "\n",
    "\n",
    "for lr in learning_rates:\n",
    "    for reg in regularization_strengths:\n",
    "        # train softmax classifier\n",
    "        print(\"**********************************\")\n",
    "        print(\"lr: %.7f, reg: %.1f\" %(lr, reg))\n",
    "        model = Softmax()\n",
    "        model.train(X_train, y_train, learning_rate=lr, reg=reg, num_iters=1500, verbose=False)\n",
    "\n",
    "        # compute accuracy\n",
    "        train_accuracy = compute_accuracy(y_train, model.predict(X_train))\n",
    "        val_accuracy = compute_accuracy(y_val, model.predict(X_val))\n",
    "        print('train accuracy: %.4f' %train_accuracy)\n",
    "        print('validation accuracy: %.4f' %val_accuracy)\n",
    "\n",
    "        # store accuracy in dictionary\n",
    "        results[(lr, reg)] = (train_accuracy, val_accuracy)\n",
    "\n",
    "        # check if validation accuracy is best\n",
    "        if val_accuracy > best_val:\n",
    "            best_val = val_accuracy\n",
    "            best_softmax = model\n",
    "################################################################################\n",
    "#                              КОНЕЦ ВАШЕГО КОДА                               #\n",
    "################################################################################\n",
    "    \n",
    "# Вывод результатов\n",
    "for lr, reg in sorted(results):\n",
    "    train_accuracy, val_accuracy = results[(lr, reg)]\n",
    "    print('lr %e reg %e train accuracy: %f val accuracy: %f' % (\n",
    "                lr, reg, train_accuracy, val_accuracy))\n",
    "    \n",
    "print('best validation accuracy achieved during cross-validation: %f' % best_val)"
   ]
  },
  {
   "cell_type": "code",
   "execution_count": 12,
   "metadata": {},
   "outputs": [
    {
     "name": "stdout",
     "output_type": "stream",
     "text": [
      "softmax on raw pixels final test set accuracy: 0.367000\n"
     ]
    }
   ],
   "source": [
    "# Оценка лучшего классификатора на тестовом множестве\n",
    "y_test_pred = best_softmax.predict(X_test)\n",
    "test_accuracy = np.mean(y_test == y_test_pred)\n",
    "print('softmax on raw pixels final test set accuracy: %f' % (test_accuracy, ))"
   ]
  },
  {
   "cell_type": "markdown",
   "metadata": {},
   "source": [
    "**Вопрос** - *Да или нет*\n",
    "\n",
    "Можно добавить новую точку данных в обучающее множество и это оставит SVM потери без изменений, но это не верно применительно к потерям, вычисляемым Softmax классификатором.\n",
    "\n",
    "*Ваш ответ*: Да\n",
    "\n",
    "*Ваши объяснения*: Разница заключается в работе самих классификаторов. В обоих случаях мы вычисляем один и тот же вектор оценки f. Однако есть различие в интерпретации этих оценок: SVM интерпретирует их как оценки класса, и его функция потерь поощряет правильный класс, чтобы его оценка была выше, чем другие оценки классов. Классификатор Softmax вместо этого интерпретирует оценки как ненормализованые логвероятности для каждого класса, а затем поощряет (нормализованную) лог-вероятность правильного класса."
   ]
  },
  {
   "cell_type": "code",
   "execution_count": 13,
   "metadata": {},
   "outputs": [
    {
     "data": {
      "image/png": "[encoded data removed]",
      "text/plain": [
       "<Figure size 432x288 with 10 Axes>"
      ]
     },
     "metadata": {
      "needs_background": "light"
     },
     "output_type": "display_data"
    }
   ],
   "source": [
    "# Визуализация обученных весов для каждого класса.\n",
    "w = best_softmax.W[:-1,:] # strip out the bias\n",
    "w = w.reshape(32, 32, 3, 10)\n",
    "\n",
    "w_min, w_max = np.min(w), np.max(w)\n",
    "\n",
    "classes = ['plane', 'car', 'bird', 'cat', 'deer', 'dog', 'frog', 'horse', 'ship', 'truck']\n",
    "for i in range(10):\n",
    "    plt.subplot(2, 5, i + 1)\n",
    "    \n",
    "    # Rescale the weights to be between 0 and 255\n",
    "    wimg = 255.0 * (w[:, :, :, i].squeeze() - w_min) / (w_max - w_min)\n",
    "    plt.imshow(wimg.astype('uint8'))\n",
    "    plt.axis('off')\n",
    "    plt.title(classes[i])"
   ]
  },
  {
   "cell_type": "code",
   "execution_count": null,
   "metadata": {},
   "outputs": [],
   "source": []
  }
 ],
 "metadata": {
  "kernelspec": {
   "display_name": "Python 3",
   "language": "python",
   "name": "python3"
  },
  "language_info": {
   "codemirror_mode": {
    "name": "ipython",
    "version": 3
   },
   "file_extension": ".py",
   "mimetype": "text/x-python",
   "name": "python",
   "nbconvert_exporter": "python",
   "pygments_lexer": "ipython3",
   "version": "3.6.5"
  }
 },
 "nbformat": 4,
 "nbformat_minor": 1
}
